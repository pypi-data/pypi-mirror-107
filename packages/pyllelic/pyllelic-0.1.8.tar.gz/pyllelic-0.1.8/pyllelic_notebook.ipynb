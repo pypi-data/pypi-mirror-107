{
 "cells": [
  {
   "cell_type": "markdown",
   "metadata": {},
   "source": [
    "# Example Pyllelic Use-Case Notebook"
   ]
  },
  {
   "cell_type": "markdown",
   "metadata": {
    "heading_collapsed": true
   },
   "source": [
    "## Background"
   ]
  },
  {
   "cell_type": "markdown",
   "metadata": {
    "hidden": true
   },
   "source": [
    "This notebook illustrates the import and use of `pyllelic` in a jupyter environment.\n",
    "\n",
    "See https://github.com/Paradoxdruid/pyllelic for further details."
   ]
  },
  {
   "cell_type": "markdown",
   "metadata": {},
   "source": [
    "## Pre-setup"
   ]
  },
  {
   "cell_type": "markdown",
   "metadata": {
    "heading_collapsed": true
   },
   "source": [
    "### Obtaining fastq data"
   ]
  },
  {
   "cell_type": "markdown",
   "metadata": {
    "hidden": true
   },
   "source": [
    "We can download rrbs (reduced representation bisulfite sequencing) data from the Encode project:\n",
    "http://hgdownload.cse.ucsc.edu/goldenPath/hg19/encodeDCC/wgEncodeHaibMethylRrbs/"
   ]
  },
  {
   "cell_type": "markdown",
   "metadata": {
    "hidden": true
   },
   "source": [
    "Those files are in unaligned fastq format.  We will need to align these to a reference human genome."
   ]
  },
  {
   "cell_type": "markdown",
   "metadata": {},
   "source": [
    "### Aligning reads (using process.py)"
   ]
  },
  {
   "cell_type": "markdown",
   "metadata": {},
   "source": [
    "To align reads, we'll use bowtie2 and samtools (through its pysam wrapper)."
   ]
  },
  {
   "cell_type": "markdown",
   "metadata": {},
   "source": [
    "First, we need to download a genomic index sequence: http://hgdownload.soe.ucsc.edu/goldenPath/hg19"
   ]
  },
  {
   "cell_type": "code",
   "execution_count": null,
   "metadata": {
    "ExecuteTime": {
     "end_time": "2021-02-11T22:30:07.008982Z",
     "start_time": "2021-02-11T22:30:07.005722Z"
    }
   },
   "outputs": [],
   "source": [
    "# Processing imports\n",
    "# from pathlib import Path"
   ]
  },
  {
   "cell_type": "code",
   "execution_count": null,
   "metadata": {
    "ExecuteTime": {
     "end_time": "2021-02-11T20:02:16.211993Z",
     "start_time": "2021-02-11T20:02:16.205552Z"
    }
   },
   "outputs": [],
   "source": [
    "# Set up file paths\n",
    "# index = Path(\n",
    "#     \"/home/andrew/allellic/hg19.p13.plusMT.no_alt_analysis_set//hg19.p13.plusMT.no_alt_analysis_set\"\n",
    "# )\n",
    "# fastq = Path(\"/home/andrew/allellic/wgEncodeHaibMethylRrbsU87HaibRawDataRep1.fastq.gz\")"
   ]
  },
  {
   "cell_type": "markdown",
   "metadata": {},
   "source": [
    "**WARNING:** The next command is processor, RAM, and time intensive, and only needs to be run once!"
   ]
  },
  {
   "cell_type": "code",
   "execution_count": null,
   "metadata": {
    "ExecuteTime": {
     "end_time": "2021-02-11T20:00:15.551793Z",
     "start_time": "2021-02-11T20:00:15.549988Z"
    }
   },
   "outputs": [],
   "source": [
    "# Convert fastq to bam\n",
    "# pyllelic.process.bowtie2_fastq_to_bam(index={bowtie_index_filename_without_suffix},\n",
    "#                                       fastq={fastq_file_name},\n",
    "#                                       cores=6)"
   ]
  },
  {
   "cell_type": "markdown",
   "metadata": {},
   "source": [
    "Notes:\n",
    "* cores is number of processor cores, adjust for your system\n",
    "* instead of `out.bam` use a filename that encodes cell-line and tissue.  Our convention is: `fh_CELLLINE_TISSUE.TERT.bam`"
   ]
  },
  {
   "cell_type": "markdown",
   "metadata": {},
   "source": [
    "Next, we need to sort and index the bam file using samtools functions."
   ]
  },
  {
   "cell_type": "code",
   "execution_count": null,
   "metadata": {},
   "outputs": [],
   "source": [
    "# Sort the bamfile\n",
    "# bamfile = Path(\"/home/andrew/allellic/wgEncodeHaibMethylRrbsU87HaibRawDataRep1.bam\")\n",
    "# pyllelic.process_pysam_sort(bamfile)"
   ]
  },
  {
   "cell_type": "code",
   "execution_count": null,
   "metadata": {},
   "outputs": [],
   "source": [
    "# Create an index of the sorted bamfile\n",
    "# sorted_bam = Path(\"\")\n",
    "# pyllelic.process_pysam_index(b)"
   ]
  },
  {
   "cell_type": "markdown",
   "metadata": {},
   "source": [
    "Now, that sorted file (again, rename to capture cell-line and tissue info) is ready to be put in the `test` folder for analysis by pyllelic!"
   ]
  },
  {
   "cell_type": "markdown",
   "metadata": {},
   "source": [
    "## Set-up"
   ]
  },
  {
   "cell_type": "code",
   "execution_count": null,
   "metadata": {
    "ExecuteTime": {
     "end_time": "2021-05-29T20:08:57.406210Z",
     "start_time": "2021-05-29T20:08:56.192462Z"
    }
   },
   "outputs": [],
   "source": [
    "import pyllelic"
   ]
  },
  {
   "cell_type": "code",
   "execution_count": null,
   "metadata": {
    "ExecuteTime": {
     "end_time": "2021-05-29T20:08:57.412056Z",
     "start_time": "2021-05-29T20:08:57.408651Z"
    }
   },
   "outputs": [],
   "source": [
    "# set up your disk location:\n",
    "# base_path should be the directory we'll do our work in\n",
    "# make a sub-directory under base_path with a folder named \"test\"\n",
    "# and put the .bam and .bai files in \"test\"\n",
    "\n",
    "# OSX setup\n",
    "pyllelic.set_up_env_variables(\n",
    "    base_path=\"/Users/abonham/documents/test_allelic/\",\n",
    "    prom_file=\"TERT-promoter-genomic-sequence.txt\",\n",
    "    prom_start=\"1293000\",\n",
    "    prom_end=\"1296000\",\n",
    "    chrom=\"5\",\n",
    "    offset=1298163,\n",
    ")\n",
    "\n",
    "# Windows set-up\n",
    "# pyllelic.set_up_env_variables(\n",
    "#     base_path=\"/home/andrew/allellic/\",\n",
    "#     prom_file=\"TERT-promoter-genomic-sequence.txt\",\n",
    "#     prom_start=\"1293000\",\n",
    "#     prom_end=\"1296000\",\n",
    "#     chrom=\"chr5\",\n",
    "#     offset=1298163,\n",
    "# )"
   ]
  },
  {
   "cell_type": "markdown",
   "metadata": {},
   "source": [
    "## Main Parsing Functions"
   ]
  },
  {
   "cell_type": "code",
   "execution_count": null,
   "metadata": {
    "ExecuteTime": {
     "end_time": "2021-05-29T20:08:57.417891Z",
     "start_time": "2021-05-29T20:08:57.414980Z"
    }
   },
   "outputs": [],
   "source": [
    "files_set = pyllelic.make_list_of_bam_files()  # finds bam files"
   ]
  },
  {
   "cell_type": "code",
   "execution_count": null,
   "metadata": {
    "ExecuteTime": {
     "end_time": "2021-05-29T20:08:57.430339Z",
     "start_time": "2021-05-29T20:08:57.420657Z"
    }
   },
   "outputs": [],
   "source": [
    "# Uncomment for debugging:\n",
    "files_set"
   ]
  },
  {
   "cell_type": "code",
   "execution_count": null,
   "metadata": {
    "ExecuteTime": {
     "end_time": "2021-05-29T20:08:57.545881Z",
     "start_time": "2021-05-29T20:08:57.432207Z"
    }
   },
   "outputs": [],
   "source": [
    "# index bam and creates bam_output folders/files\n",
    "# set process False to skip writing output files if they already exist\n",
    "positions = pyllelic.index_and_fetch(files_set, process=False)"
   ]
  },
  {
   "cell_type": "code",
   "execution_count": null,
   "metadata": {
    "ExecuteTime": {
     "end_time": "2021-05-29T20:08:57.551064Z",
     "start_time": "2021-05-29T20:08:57.547984Z"
    }
   },
   "outputs": [],
   "source": [
    "# Turn off pretty printing to see position list better\n",
    "%pprint"
   ]
  },
  {
   "cell_type": "code",
   "execution_count": null,
   "metadata": {
    "ExecuteTime": {
     "end_time": "2021-05-29T20:08:57.556508Z",
     "start_time": "2021-05-29T20:08:57.552814Z"
    }
   },
   "outputs": [],
   "source": [
    "# Uncomment for debugging:\n",
    "positions"
   ]
  },
  {
   "cell_type": "code",
   "execution_count": null,
   "metadata": {
    "ExecuteTime": {
     "end_time": "2021-05-29T20:08:57.563527Z",
     "start_time": "2021-05-29T20:08:57.560615Z"
    }
   },
   "outputs": [],
   "source": [
    "# Turn back on pretty printing\n",
    "%pprint"
   ]
  },
  {
   "cell_type": "code",
   "execution_count": null,
   "metadata": {
    "ExecuteTime": {
     "end_time": "2021-05-29T20:08:59.366255Z",
     "start_time": "2021-05-29T20:08:59.364049Z"
    }
   },
   "outputs": [],
   "source": [
    "# Only needs to be run once, generates static files\n",
    "# pyllelic.genome_parsing()\n",
    "\n",
    "# Can also take sub-list of directories to process\n",
    "# pyllelic.genome_parsing([pyllelic.config.bam_directory / \"fh_BONHAM_TISSUE.TERT.bam\"])"
   ]
  },
  {
   "cell_type": "code",
   "execution_count": null,
   "metadata": {
    "ExecuteTime": {
     "end_time": "2021-05-29T20:08:59.917530Z",
     "start_time": "2021-05-29T20:08:59.914920Z"
    }
   },
   "outputs": [],
   "source": [
    "cell_types = pyllelic.extract_cell_types(files_set)"
   ]
  },
  {
   "cell_type": "code",
   "execution_count": null,
   "metadata": {
    "ExecuteTime": {
     "end_time": "2021-05-29T20:09:01.124229Z",
     "start_time": "2021-05-29T20:09:01.120416Z"
    }
   },
   "outputs": [],
   "source": [
    "# Uncomment for debugging\n",
    "cell_types"
   ]
  },
  {
   "cell_type": "code",
   "execution_count": null,
   "metadata": {
    "ExecuteTime": {
     "end_time": "2021-05-29T20:09:39.698894Z",
     "start_time": "2021-05-29T20:09:05.736684Z"
    }
   },
   "outputs": [],
   "source": [
    "# Set filename to whatever you want\n",
    "df_list = pyllelic.run_quma_and_compile_list_of_df(\n",
    "    cell_types, \"test1.xlsx\",\n",
    "    run_quma=True,\n",
    ")  # to skip quma: , run_quma=False)"
   ]
  },
  {
   "cell_type": "code",
   "execution_count": null,
   "metadata": {
    "ExecuteTime": {
     "end_time": "2021-05-29T20:10:44.060972Z",
     "start_time": "2021-05-29T20:10:44.056921Z"
    }
   },
   "outputs": [],
   "source": [
    "# Uncomment for debugging\n",
    "df_list.keys()"
   ]
  },
  {
   "cell_type": "code",
   "execution_count": null,
   "metadata": {
    "ExecuteTime": {
     "end_time": "2021-05-29T20:10:44.808501Z",
     "start_time": "2021-05-29T20:10:44.802537Z"
    }
   },
   "outputs": [],
   "source": [
    "df_list[\"NCIH196\"][\"1295937\"]"
   ]
  },
  {
   "cell_type": "code",
   "execution_count": null,
   "metadata": {
    "ExecuteTime": {
     "end_time": "2021-05-29T20:10:47.775483Z",
     "start_time": "2021-05-29T20:10:47.656721Z"
    }
   },
   "outputs": [],
   "source": [
    "means = pyllelic.process_means(df_list, positions, files_set)"
   ]
  },
  {
   "cell_type": "code",
   "execution_count": null,
   "metadata": {
    "ExecuteTime": {
     "end_time": "2021-05-29T20:10:48.372799Z",
     "start_time": "2021-05-29T20:10:48.306137Z"
    }
   },
   "outputs": [],
   "source": [
    "# Uncomment for debugging\n",
    "means"
   ]
  },
  {
   "cell_type": "code",
   "execution_count": null,
   "metadata": {
    "ExecuteTime": {
     "end_time": "2021-05-29T20:10:49.761671Z",
     "start_time": "2021-05-29T20:10:49.660452Z"
    }
   },
   "outputs": [],
   "source": [
    "modes = pyllelic.process_modes(df_list, positions, files_set)"
   ]
  },
  {
   "cell_type": "code",
   "execution_count": null,
   "metadata": {
    "ExecuteTime": {
     "end_time": "2021-05-29T20:10:50.351105Z",
     "start_time": "2021-05-29T20:10:50.328456Z"
    }
   },
   "outputs": [],
   "source": [
    "# Uncomment for debugging\n",
    "modes"
   ]
  },
  {
   "cell_type": "code",
   "execution_count": null,
   "metadata": {
    "ExecuteTime": {
     "end_time": "2021-05-29T20:10:57.164627Z",
     "start_time": "2021-05-29T20:10:57.156996Z"
    }
   },
   "outputs": [],
   "source": [
    "diff = pyllelic.find_diffs(means, modes)"
   ]
  },
  {
   "cell_type": "code",
   "execution_count": null,
   "metadata": {
    "ExecuteTime": {
     "end_time": "2021-05-29T20:10:57.680522Z",
     "start_time": "2021-05-29T20:10:57.649009Z"
    }
   },
   "outputs": [],
   "source": [
    "# Uncomment for debugging\n",
    "diff"
   ]
  },
  {
   "cell_type": "markdown",
   "metadata": {},
   "source": [
    "## Write Output to excel files"
   ]
  },
  {
   "cell_type": "code",
   "execution_count": null,
   "metadata": {
    "ExecuteTime": {
     "end_time": "2021-05-29T20:11:00.323260Z",
     "start_time": "2021-05-29T20:11:00.226689Z"
    }
   },
   "outputs": [],
   "source": [
    "# Set the filename to whatever you want\n",
    "pyllelic.write_means_modes_diffs(means, modes, diff, \"Test1\")"
   ]
  },
  {
   "cell_type": "markdown",
   "metadata": {},
   "source": [
    "## Visualizing Data"
   ]
  },
  {
   "cell_type": "code",
   "execution_count": null,
   "metadata": {
    "ExecuteTime": {
     "end_time": "2021-05-29T20:11:01.298103Z",
     "start_time": "2021-05-29T20:11:01.278503Z"
    }
   },
   "outputs": [],
   "source": [
    "final_data = pyllelic.pd.read_excel(\n",
    "    pyllelic.config.base_directory.joinpath(\"Test1_diff.xlsx\"),\n",
    "    dtype=str,\n",
    "    index_col=0,\n",
    "    engine=\"openpyxl\",\n",
    ")"
   ]
  },
  {
   "cell_type": "code",
   "execution_count": null,
   "metadata": {
    "ExecuteTime": {
     "end_time": "2021-05-29T20:11:02.041955Z",
     "start_time": "2021-05-29T20:11:02.019421Z"
    }
   },
   "outputs": [],
   "source": [
    "final_data"
   ]
  },
  {
   "cell_type": "code",
   "execution_count": null,
   "metadata": {
    "ExecuteTime": {
     "end_time": "2021-05-29T20:11:06.498220Z",
     "start_time": "2021-05-29T20:11:04.754816Z"
    }
   },
   "outputs": [],
   "source": [
    "individual_data = pyllelic.return_individual_data(df_list, positions, files_set)"
   ]
  },
  {
   "cell_type": "code",
   "execution_count": null,
   "metadata": {
    "ExecuteTime": {
     "end_time": "2021-05-29T20:11:07.101556Z",
     "start_time": "2021-05-29T20:11:07.060420Z"
    }
   },
   "outputs": [],
   "source": [
    "# Uncomment for debugging\n",
    "individual_data"
   ]
  },
  {
   "cell_type": "code",
   "execution_count": null,
   "metadata": {
    "ExecuteTime": {
     "end_time": "2021-05-29T20:11:12.393908Z",
     "start_time": "2021-05-29T20:11:12.389232Z"
    }
   },
   "outputs": [],
   "source": [
    "individual_data.loc[\"NCIH196\", \"1295937\"]"
   ]
  },
  {
   "cell_type": "code",
   "execution_count": null,
   "metadata": {
    "ExecuteTime": {
     "end_time": "2021-05-17T00:49:21.148325Z",
     "start_time": "2021-05-17T00:49:21.144780Z"
    }
   },
   "outputs": [],
   "source": [
    "individual_data.loc[\"SORTED\"][\"1295680\"]"
   ]
  },
  {
   "cell_type": "code",
   "execution_count": null,
   "metadata": {
    "ExecuteTime": {
     "end_time": "2021-05-28T20:34:48.078919Z",
     "start_time": "2021-05-28T20:34:48.071118Z"
    }
   },
   "outputs": [],
   "source": [
    "individual_data.loc[\"CALU1\"]"
   ]
  },
  {
   "cell_type": "code",
   "execution_count": null,
   "metadata": {
    "ExecuteTime": {
     "end_time": "2021-05-17T00:49:27.823872Z",
     "start_time": "2021-05-17T00:49:27.455315Z"
    }
   },
   "outputs": [],
   "source": [
    "pyllelic.histogram(individual_data, \"SORTED\", \"1295680\")"
   ]
  },
  {
   "cell_type": "code",
   "execution_count": null,
   "metadata": {
    "ExecuteTime": {
     "end_time": "2021-05-14T21:29:38.334960Z",
     "start_time": "2021-05-14T21:29:38.189511Z"
    }
   },
   "outputs": [],
   "source": [
    "pyllelic.histogram(individual_data, \"SORTED\", \"1295903\")"
   ]
  },
  {
   "cell_type": "code",
   "execution_count": null,
   "metadata": {
    "ExecuteTime": {
     "end_time": "2021-05-29T20:11:17.635856Z",
     "start_time": "2021-05-29T20:11:17.101878Z"
    }
   },
   "outputs": [],
   "source": [
    "pyllelic.histogram(individual_data, \"SW1710\", \"1295089\")"
   ]
  },
  {
   "cell_type": "code",
   "execution_count": null,
   "metadata": {
    "ExecuteTime": {
     "end_time": "2021-05-29T20:11:17.678458Z",
     "start_time": "2021-05-29T20:11:17.637849Z"
    }
   },
   "outputs": [],
   "source": [
    "pyllelic.histogram(individual_data, \"CALU1\", \"1295937\")"
   ]
  },
  {
   "cell_type": "code",
   "execution_count": null,
   "metadata": {
    "ExecuteTime": {
     "end_time": "2021-05-29T20:11:17.982522Z",
     "start_time": "2021-05-29T20:11:17.936628Z"
    }
   },
   "outputs": [],
   "source": [
    "pyllelic.histogram(individual_data, \"NCIH196\", \"1295937\")"
   ]
  },
  {
   "cell_type": "code",
   "execution_count": null,
   "metadata": {
    "ExecuteTime": {
     "end_time": "2021-05-29T20:11:18.487055Z",
     "start_time": "2021-05-29T20:11:18.432409Z"
    }
   },
   "outputs": [],
   "source": [
    "pyllelic.histogram(individual_data, \"NCIH196\", \"1294945\")"
   ]
  },
  {
   "cell_type": "code",
   "execution_count": null,
   "metadata": {
    "ExecuteTime": {
     "end_time": "2021-05-29T20:11:23.791740Z",
     "start_time": "2021-05-29T20:11:23.786484Z"
    }
   },
   "outputs": [],
   "source": [
    "final_data.loc[\"SW1710\"]"
   ]
  },
  {
   "cell_type": "markdown",
   "metadata": {},
   "source": [
    "## Statistical Tests for Normality"
   ]
  },
  {
   "cell_type": "code",
   "execution_count": null,
   "metadata": {
    "ExecuteTime": {
     "end_time": "2021-05-29T20:11:28.132785Z",
     "start_time": "2021-05-29T20:11:28.076276Z"
    }
   },
   "outputs": [],
   "source": [
    "pyllelic.summarize_allelic_data(individual_data, diff)"
   ]
  },
  {
   "cell_type": "code",
   "execution_count": null,
   "metadata": {},
   "outputs": [],
   "source": []
  }
 ],
 "metadata": {
  "jupytext": {
   "formats": "ipynb,md"
  },
  "kernelspec": {
   "display_name": "Python 3",
   "language": "python",
   "name": "python3"
  },
  "language_info": {
   "codemirror_mode": {
    "name": "ipython",
    "version": 3
   },
   "file_extension": ".py",
   "mimetype": "text/x-python",
   "name": "python",
   "nbconvert_exporter": "python",
   "pygments_lexer": "ipython3",
   "version": "3.7.8"
  },
  "toc": {
   "base_numbering": 1,
   "nav_menu": {},
   "number_sections": true,
   "sideBar": true,
   "skip_h1_title": false,
   "title_cell": "Table of Contents",
   "title_sidebar": "Contents",
   "toc_cell": false,
   "toc_position": {},
   "toc_section_display": true,
   "toc_window_display": false
  }
 },
 "nbformat": 4,
 "nbformat_minor": 4
}
