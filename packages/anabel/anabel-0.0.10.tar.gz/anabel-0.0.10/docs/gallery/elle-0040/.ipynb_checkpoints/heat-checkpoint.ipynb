{
 "cells": [
  {
   "cell_type": "code",
   "execution_count": 2,
   "id": "f0910bd3",
   "metadata": {},
   "outputs": [],
   "source": [
    "import sympy as sp"
   ]
  },
  {
   "cell_type": "code",
   "execution_count": 3,
   "id": "90a48206",
   "metadata": {},
   "outputs": [],
   "source": [
    "x, t, alpha = sp.symbols(\"x t alpha\")"
   ]
  },
  {
   "cell_type": "code",
   "execution_count": 4,
   "id": "74451333",
   "metadata": {},
   "outputs": [],
   "source": [
    "f = sp.pi**2*sp.Rational(1,100)*sum(sp.sin((1+k*2)*sp.pi*x) for k in range(5))*sp.sin(sp.pi*t)"
   ]
  },
  {
   "cell_type": "code",
   "execution_count": 5,
   "id": "e870e4dd",
   "metadata": {},
   "outputs": [
    {
     "name": "stdout",
     "output_type": "stream",
     "text": [
      "pi**2*sin(pi*t)/200\n",
      "pi**2*sin(pi*t)/200\n",
      "pi**2*sin(pi*t)/200\n",
      "pi**2*sin(pi*t)/200\n",
      "pi**2*sin(pi*t)/200\n"
     ]
    }
   ],
   "source": [
    "XI = [(2*k+1)*sp.pi for k in range(5)]\n",
    "for xi in XI:\n",
    "    bn = 2*sp.integrate(f*sp.sin(xi*x),(x,0,1))\n",
    "    print(bn)\n",
    "    pass"
   ]
  },
  {
   "cell_type": "code",
   "execution_count": null,
   "id": "3b4a952e",
   "metadata": {},
   "outputs": [],
   "source": [
    "import numpy as np\n",
    "\n",
    "def b(s):\n",
    "    return [np.pi**2*np.sin(np.pi*s)/100 for k in range(5)]\n",
    "def ck()\n",
    "def heat(xi,bn):\n",
    "\n",
    "    \n",
    "    def f(x,t):\n",
    "        pass\n",
    "        "
   ]
  }
 ],
 "metadata": {
  "kernelspec": {
   "display_name": "Python 3",
   "language": "python",
   "name": "python3"
  },
  "language_info": {
   "codemirror_mode": {
    "name": "ipython",
    "version": 3
   },
   "file_extension": ".py",
   "mimetype": "text/x-python",
   "name": "python",
   "nbconvert_exporter": "python",
   "pygments_lexer": "ipython3",
   "version": "3.8.8"
  }
 },
 "nbformat": 4,
 "nbformat_minor": 5
}
