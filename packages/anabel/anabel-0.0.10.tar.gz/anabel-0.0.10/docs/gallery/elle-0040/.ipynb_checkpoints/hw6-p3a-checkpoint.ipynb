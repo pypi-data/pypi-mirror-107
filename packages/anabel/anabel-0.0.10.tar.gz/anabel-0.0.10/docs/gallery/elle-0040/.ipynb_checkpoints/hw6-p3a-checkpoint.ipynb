{
 "cells": [
  {
   "cell_type": "code",
   "execution_count": 1,
   "metadata": {},
   "outputs": [],
   "source": [
    "import emme as em\n",
    "import anon\n",
    "import jax\n",
    "# anon.conf.config.update('jax_disable_jit', True)\n",
    "import numpy as np\n",
    "import anon.atom as anp\n",
    "from anon import quad\n",
    "import matplotlib.pyplot as plt\n",
    "plt.style.use(\"typewriter\")\n",
    "SAVE_FIGS = False"
   ]
  },
  {
   "cell_type": "code",
   "execution_count": 2,
   "metadata": {},
   "outputs": [],
   "source": [
    "from elle_0001 import elem_0001"
   ]
  },
  {
   "cell_type": "code",
   "execution_count": 3,
   "metadata": {},
   "outputs": [],
   "source": [
    "def build(nel,elem):\n",
    "    model = em.SkeletalModel(1,1)\n",
    "    L = 1.0\n",
    "    nen = 5\n",
    "    tag = 1\n",
    "    model.node('1.1',0)\n",
    "    for i in range(nel):\n",
    "        nodes = [model.nodes[-1]]\n",
    "        for j in range(1,nen):\n",
    "            nodes.append(model.node(f\"{i+1}.{j+1}\", i*L/nel + (j)*(L/nel)/(nen-1)))\n",
    "        model.elem(elem,nodes,f\"{i}\")\n",
    "    model.boun(\"1.1\", [1])\n",
    "    model.boun(f\"{nel}.{nen}\", [1])\n",
    "    \n",
    "    return model\n",
    "def solve(model):\n",
    "    f = model.assemble_force()\n",
    "    return anp.linalg.solve(anon.diff.jacx(f)(*f.origin[:3]),-f(*f.origin[:3])[1])"
   ]
  },
  {
   "cell_type": "code",
   "execution_count": 4,
   "metadata": {},
   "outputs": [
    {
     "name": "stderr",
     "output_type": "stream",
     "text": [
      "WARNING:absl:No GPU/TPU found, falling back to CPU. (Set TF_CPP_MIN_LOG_LEVEL=0 and rerun for more info.)\n"
     ]
    }
   ],
   "source": [
    "alpha = 1/100\n",
    "a1 = -alpha\n",
    "# Source term, f\n",
    "f = lambda x: anp.pi**2/100*sum(anp.sin((2*k+1)*anp.pi*x) for k in range(5))\n",
    "# Exact solution\n",
    "u = lambda x: -1/100/a1*sum(anp.sin((2*k+1)*anp.pi*x)/(2*k+1)**2 for k in range(5))\n",
    "elem = elem_0001(f, a1, 0,order=9)"
   ]
  },
  {
   "cell_type": "code",
   "execution_count": null,
   "metadata": {},
   "outputs": [],
   "source": [
    "fig, ax = plt.subplots()\n",
    "ax.plot(*zip(*[[x, f(x)] for x in anp.linspace(0,1,1000)]),label=\"$f$\")\n",
    "ax.plot(*zip(*[[x, u(x)] for x in anp.linspace(0,1,1000)]),label=\"$u$\")\n",
    "ax.legend()\n",
    "ax.set_xlabel(\"$x$\")\n",
    "ax.set_title(\"Initial data and solution.\")\n",
    "if SAVE_FIGS: fig.savefig(\"./img/p3a-exact.png\")"
   ]
  },
  {
   "cell_type": "code",
   "execution_count": null,
   "metadata": {},
   "outputs": [],
   "source": [
    "e = []\n",
    "h = []\n",
    "fig, ax = plt.subplots(1,2)\n",
    "for n in range(6,216,6):\n",
    "    model = build(n,elem)\n",
    "    U = solve(model)\n",
    "    x = anp.linspace(model.nodes[1].x,model.nodes[-2].x,n*4-1)\n",
    "    h.append(model.nodes[1].x)\n",
    "    e.append(model.nodes[1].x*anp.linalg.norm(U - u(x)[:,None]))\n",
    "    ax[1].plot([n.x for n in model.nodes[1:model.nf+1] ], U.flatten())\n",
    "ax[1].plot(*zip(*[[x, u(x)] for x in anp.linspace(0,1,1000)]))\n",
    "ax[1].set_title(\"Solution\")\n",
    "slope, ss = np.polyfit(np.log(h), np.log(e), 1)\n",
    "\n",
    "ax[0].loglog(h,e,\".\")\n",
    "ax[0].set_title(f\"Convergence study ($m={slope}$)\")\n",
    "if SAVE_FIGS: fig.savefig(\"./img/p3a-conv.png\")"
   ]
  },
  {
   "cell_type": "code",
   "execution_count": null,
   "metadata": {},
   "outputs": [],
   "source": [
    "build(4,elem).compose_force()()"
   ]
  },
  {
   "cell_type": "code",
   "execution_count": null,
   "metadata": {},
   "outputs": [],
   "source": []
  }
 ],
 "metadata": {
  "kernelspec": {
   "display_name": "Python 3",
   "language": "python",
   "name": "python3"
  },
  "language_info": {
   "codemirror_mode": {
    "name": "ipython",
    "version": 3
   },
   "file_extension": ".py",
   "mimetype": "text/x-python",
   "name": "python",
   "nbconvert_exporter": "python",
   "pygments_lexer": "ipython3",
   "version": "3.8.8"
  },
  "toc-autonumbering": true
 },
 "nbformat": 4,
 "nbformat_minor": 4
}
