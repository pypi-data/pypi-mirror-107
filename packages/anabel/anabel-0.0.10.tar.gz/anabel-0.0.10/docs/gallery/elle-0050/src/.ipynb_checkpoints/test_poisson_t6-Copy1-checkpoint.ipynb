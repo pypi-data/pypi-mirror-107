{
 "cells": [
  {
   "cell_type": "code",
   "execution_count": 5,
   "id": "1b60d701",
   "metadata": {},
   "outputs": [],
   "source": [
    "import anon\n",
    "import meshio\n",
    "import anabel\n",
    "import anabel.backend as anp\n",
    "from poisson import poisson2 as poisson\n",
    "from interpolate import lagrange_t6"
   ]
  },
  {
   "cell_type": "code",
   "execution_count": 6,
   "id": "d673d70d",
   "metadata": {},
   "outputs": [],
   "source": [
    "points = [\n",
    "    [1.0, 1.0],\n",
    "    [3.0, 1.0],\n",
    "    [1.0, 3.0],\n",
    "    [2.0, 1.0],\n",
    "    [2.5, 2.5],\n",
    "    [1.0, 2.0]\n",
    "]\n",
    "cells = [(\"triangle6\", [[0,1,2,3,4,5]])]\n",
    "model = anabel.MeshGroup(mesh=meshio.Mesh(points,cells))"
   ]
  },
  {
   "cell_type": "code",
   "execution_count": 7,
   "id": "dd4fe2b8",
   "metadata": {},
   "outputs": [],
   "source": [
    "f = model.assemble_integral(elem=poisson(*[lagrange_t6()]*3))"
   ]
  },
  {
   "cell_type": "code",
   "execution_count": 9,
   "id": "10a1484b",
   "metadata": {},
   "outputs": [
    {
     "name": "stdout",
     "output_type": "stream",
     "text": [
      "[[0.26315789 0.10526316]] [[1.]]\n",
      "|J| = Traced<ShapedArray(float64[])>with<BatchTrace(level=2/0)>\n",
      "  with val = Traced<ShapedArray(float64[1])>with<BatchTrace(level=1/0)>\n",
      "               with val = DeviceArray([[5.47368421]], dtype=float64)\n",
      "                    batch_dim = 0\n",
      "       batch_dim = 0\n",
      "jacn_test: Traced<ShapedArray(float64[2,6])>with<BatchTrace(level=2/0)>\n",
      "  with val = DeviceArray([[[-1.52631579,  0.05263158,  0.        ,  1.47368421,\n",
      "                             0.42105263, -0.42105263],\n",
      "                           [-1.52631579,  0.        , -0.57894737, -1.05263158,\n",
      "                             1.05263158,  2.10526316]]], dtype=float64)\n",
      "       batch_dim = 0\n",
      "Traced<ShapedArray(float64[2,6])>with<BatchTrace(level=2/0)>\n",
      "  with val = Traced<ShapedArray(float64[1,2,6])>with<BatchTrace(level=1/0)>\n",
      "               with val = DeviceArray([[[[-0.64574899,  0.0242915 ,  0.02226721,  0.72064777,\n",
      "                                           0.15384615, -0.27530364],\n",
      "                                         [-0.46963563, -0.00506073, -0.23380567, -0.56680162,\n",
      "                                           0.38461538,  0.89068826]]]], dtype=float64)\n",
      "                    batch_dim = 0\n",
      "       batch_dim = 0\n",
      "a= Traced<ShapedArray(float64[6,6])>with<BatchTrace(level=2/0)>\n",
      "  with val = Traced<ShapedArray(float64[1,6,6])>with<BatchTrace(level=1/0)>\n",
      "               with val = DeviceArray([[[[ 1.74487198e+00, -3.64260321e-02,  2.61161641e-01,\n",
      "                                          -5.45089551e-01, -7.66247603e-01, -6.58270436e-01],\n",
      "                                         [-3.64260321e-02,  1.68504043e-03,  4.71867395e-03,\n",
      "                                           5.57605392e-02,  4.90091626e-03, -3.06391378e-02],\n",
      "                                         [ 2.61161641e-01,  4.71867395e-03,  1.50966725e-01,\n",
      "                                           4.06607826e-01, -2.36735564e-01, -5.86719302e-01],\n",
      "                                         [-5.45089551e-01,  5.57605392e-02,  4.06607826e-01,\n",
      "                                           2.30058205e+00, -2.93202642e-01, -1.92465823e+00],\n",
      "                                         [-7.66247603e-01,  4.90091626e-03, -2.36735564e-01,\n",
      "                                          -2.93202642e-01,  4.69635628e-01,  8.21649265e-01],\n",
      "                                         [-6.58270436e-01, -3.06391378e-02, -5.86719302e-01,\n",
      "                                          -1.92465823e+00,  8.21649265e-01,  2.37863784e+00]]]],            dtype=float64)\n",
      "                    batch_dim = 0\n",
      "       batch_dim = 0\n",
      "interp: Traced<ShapedArray(float64[])>with<BatchTrace(level=2/0)>\n",
      "  with val = DeviceArray([0.26315789], dtype=float64)\n",
      "       batch_dim = 0\n",
      "interp: Traced<ShapedArray(float64[])>with<BatchTrace(level=2/0)>\n",
      "  with val = DeviceArray([0.26315789], dtype=float64)\n",
      "       batch_dim = 0\n"
     ]
    },
    {
     "data": {
      "text/plain": [
       "DeviceArray([[0.],\n",
       "             [0.],\n",
       "             [0.],\n",
       "             [0.],\n",
       "             [0.],\n",
       "             [0.]], dtype=float64)"
      ]
     },
     "execution_count": 9,
     "metadata": {},
     "output_type": "execute_result"
    }
   ],
   "source": [
    "points = anp.array([[2.0, 4.0]])\n",
    "nat_points = anp.array([[5/19,2/19]])\n",
    "weights = anp.array([[1.0]])\n",
    "quad = anon.quad.simplex.Simplex.load(\"gauss01.m\")\n",
    "f(anp.zeros((6,1)), points=quad.points, weights=quad.weights)"
   ]
  },
  {
   "cell_type": "code",
   "execution_count": null,
   "id": "2c7a6f4f",
   "metadata": {},
   "outputs": [],
   "source": []
  },
  {
   "cell_type": "code",
   "execution_count": null,
   "id": "62e4b7e9",
   "metadata": {},
   "outputs": [],
   "source": []
  }
 ],
 "metadata": {
  "kernelspec": {
   "display_name": "Python 3",
   "language": "python",
   "name": "python3"
  },
  "language_info": {
   "codemirror_mode": {
    "name": "ipython",
    "version": 3
   },
   "file_extension": ".py",
   "mimetype": "text/x-python",
   "name": "python",
   "nbconvert_exporter": "python",
   "pygments_lexer": "ipython3",
   "version": "3.8.8"
  }
 },
 "nbformat": 4,
 "nbformat_minor": 5
}
