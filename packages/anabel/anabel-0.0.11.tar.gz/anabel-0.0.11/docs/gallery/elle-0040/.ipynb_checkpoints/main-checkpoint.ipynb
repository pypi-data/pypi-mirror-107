{
 "cells": [
  {
   "cell_type": "code",
   "execution_count": 3,
   "id": "57a271f2",
   "metadata": {},
   "outputs": [],
   "source": [
    "# trial:  (2,) -> (6,1)\n",
    "# transf: (2, (6,2)) -> (2,1)\n",
    "@functional(\"trial[0] -> trial[1]\")\n",
    "def poisson(trial, test, f):\n",
    "    @integral\n",
    "    def body(u,x,dx):\n",
    "        return anp.inner(jac(trial)(x), jac(test)(x))*dx @ u - f(x)*test(x)*dx\n",
    "    \n",
    "    @body.tangent\n",
    "    def tangent(u,x,dx):\n",
    "        return anp.inner(jac(trial(x)), jac(test(x)))*dx"
   ]
  },
  {
   "cell_type": "markdown",
   "id": "85107516",
   "metadata": {},
   "source": [
    "`transf`: map from reference element into domain"
   ]
  },
  {
   "cell_type": "code",
   "execution_count": null,
   "id": "cd7dc3bb",
   "metadata": {},
   "outputs": [],
   "source": [
    "\n",
    "trial, test, mapping = [lagrange_t6]*3\n",
    "MappedMesh(mesh, mapping, poisson(trial,test))"
   ]
  },
  {
   "cell_type": "code",
   "execution_count": null,
   "id": "a79abf86",
   "metadata": {},
   "outputs": [],
   "source": [
    "def transformation(f):\n",
    "    transf = lambda x,*args, **kwds: f(x,*args,**kwds)@x\n",
    "    transf.jacx = f\n",
    "    return f\n",
    "\n",
    "def assemble(mesh,transf,body, t=1.0):\n",
    "    ...\n",
    "    det = anp.linalg.det\n",
    "#     jac = diff.jacx(transf)\n",
    "    def f(u,_,__,X,dX):\n",
    "        return 0.5*t*sum(\n",
    "            body(u, transf(x,xyz), det(jac(transf)(x,xyz))*dx) \n",
    "            for x, dx in zip(X,dX)\n",
    "        )"
   ]
  },
  {
   "cell_type": "code",
   "execution_count": null,
   "id": "8b046e9c",
   "metadata": {},
   "outputs": [],
   "source": []
  }
 ],
 "metadata": {
  "kernelspec": {
   "display_name": "Python 3",
   "language": "python",
   "name": "python3"
  },
  "language_info": {
   "codemirror_mode": {
    "name": "ipython",
    "version": 3
   },
   "file_extension": ".py",
   "mimetype": "text/x-python",
   "name": "python",
   "nbconvert_exporter": "python",
   "pygments_lexer": "ipython3",
   "version": "3.8.8"
  }
 },
 "nbformat": 4,
 "nbformat_minor": 5
}
