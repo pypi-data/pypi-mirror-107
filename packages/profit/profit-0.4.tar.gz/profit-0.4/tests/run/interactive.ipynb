{
 "cells": [
  {
   "cell_type": "code",
   "execution_count": 1,
   "metadata": {
    "collapsed": true
   },
   "outputs": [
    {
     "name": "stderr",
     "output_type": "stream",
     "text": [
      "/srv/home/robert/Data/Uni/BA/profit/profit/run/slurm.py:159: SyntaxWarning: \"is\" with a literal. Did you mean \"==\"?\n",
      "  if self.config['cpus'] is 'all':\n"
     ]
    }
   ],
   "source": [
    "from profit.config import Config\n",
    "from profit.run import Runner\n",
    "\n",
    "import logging\n",
    "logging.basicConfig(level=logging.INFO)"
   ]
  },
  {
   "cell_type": "code",
   "execution_count": 2,
   "outputs": [],
   "source": [
    "base_config = Config.from_file('numpy.yaml')"
   ],
   "metadata": {
    "collapsed": false,
    "pycharm": {
     "name": "#%%\n"
    }
   }
  },
  {
   "cell_type": "markdown",
   "source": [
    "# Memmap Interface"
   ],
   "metadata": {
    "collapsed": false,
    "pycharm": {
     "name": "#%% md\n"
    }
   }
  },
  {
   "cell_type": "code",
   "execution_count": 3,
   "outputs": [
    {
     "name": "stdout",
     "output_type": "stream",
     "text": [
      "{'path': '/data/Data/Uni/BA/profit/tests/run/interface.npy'}\n",
      "[(0.,  0.) (1., -1.) (0.,  0.) (0.,  0.) (0.,  0.)]\n",
      "[(0.,) (2.,) (0.,) (0.,) (0.,)]\n"
     ]
    }
   ],
   "source": [
    "from profit.run.default import MemmapInterface, MemmapRunnerInterface\n",
    "c = {}\n",
    "MemmapRunnerInterface.handle_config(c, base_config)\n",
    "print(c)\n",
    "rif = MemmapRunnerInterface(c, 5, base_config['input'], base_config['output'])\n",
    "rif.input[['u', 'v']][1] = 1, -1\n",
    "wif = MemmapInterface(c, 1)\n",
    "wif.output['f'] = 2 * wif.input['u']\n",
    "wif.done()\n",
    "print(rif.input)\n",
    "print(rif.output)"
   ],
   "metadata": {
    "collapsed": false,
    "pycharm": {
     "name": "#%%\n"
    }
   }
  },
  {
   "cell_type": "markdown",
   "source": [
    "# ZeroMQ Interface"
   ],
   "metadata": {
    "collapsed": false,
    "pycharm": {
     "name": "#%% md\n"
    }
   }
  },
  {
   "cell_type": "code",
   "execution_count": 4,
   "outputs": [
    {
     "name": "stderr",
     "output_type": "stream",
     "text": [
      "INFO:Runner Interface:connected\n",
      "INFO:Interface:connected\n",
      "INFO:Interface:READY: received input data\n"
     ]
    },
    {
     "name": "stdout",
     "output_type": "stream",
     "text": [
      "{'bind': 'tcp://*:9000', 'connect': 'tcp://localhost:9000', 'timeout': 2500, 'retries': 3, 'retry-sleep': 1}\n",
      "input (1., -1.)\n",
      "runner 0\n",
      "runner 1\n",
      "runner 2\n",
      "output [(0.,) (2.,) (0.,) (0.,) (0.,)]\n",
      "internal [(False, 0,  0) ( True, 2, 10) (False, 0,  0) (False, 0,  0)\n",
      " (False, 0,  0)]\n"
     ]
    }
   ],
   "source": [
    "from threading import Thread\n",
    "from time import sleep\n",
    "from profit.run.zeromq import ZeroMQInterface, ZeroMQRunnerInterface\n",
    "c = {}\n",
    "ZeroMQRunnerInterface.handle_config(c, base_config)\n",
    "print(c)\n",
    "\n",
    "def runner():\n",
    "    rif = ZeroMQRunnerInterface(c, 5, base_config['input'], base_config['output'])\n",
    "    rif.input[['u', 'v']][1] = 1, -1\n",
    "    for i in range(3):\n",
    "        rif.poll()\n",
    "        sleep(0.5)\n",
    "        print(f'runner {i}')\n",
    "    print(f'output {rif.output}')\n",
    "    print(f'internal {rif.internal}')\n",
    "    rif.clean()\n",
    "\n",
    "def worker():\n",
    "    wif = ZeroMQInterface(c, 1)\n",
    "    print(f'input {wif.input}')\n",
    "    wif.output['f'] = 2 * wif.input['u']\n",
    "    wif.time = 2\n",
    "    wif.done()\n",
    "\n",
    "rt = Thread(target=runner)\n",
    "wt = Thread(target=worker)\n",
    "\n",
    "rt.start()\n",
    "wt.start()\n",
    "wt.join()\n",
    "rt.join()"
   ],
   "metadata": {
    "collapsed": false,
    "pycharm": {
     "name": "#%%\n"
    }
   }
  },
  {
   "cell_type": "markdown",
   "source": [
    "# Slurm Runner"
   ],
   "metadata": {
    "collapsed": false,
    "pycharm": {
     "name": "#%% md\n"
    }
   }
  },
  {
   "cell_type": "code",
   "execution_count": 5,
   "outputs": [],
   "source": [
    "from profit.run.slurm import SlurmRunner\n",
    "\n",
    "run_config = {'runner': {'class': 'slurm', 'job_name': 'test profit'}}\n",
    "Runner.handle_run_config(base_config, run_config)\n",
    "\n",
    "runner = Runner.from_config(run_config, base_config)\n",
    "runner.generate_script()"
   ],
   "metadata": {
    "collapsed": false,
    "pycharm": {
     "name": "#%%\n"
    }
   }
  }
 ],
 "metadata": {
  "kernelspec": {
   "display_name": "Python 3",
   "language": "python",
   "name": "python3"
  },
  "language_info": {
   "codemirror_mode": {
    "name": "ipython",
    "version": 2
   },
   "file_extension": ".py",
   "mimetype": "text/x-python",
   "name": "python",
   "nbconvert_exporter": "python",
   "pygments_lexer": "ipython2",
   "version": "2.7.6"
  }
 },
 "nbformat": 4,
 "nbformat_minor": 0
}