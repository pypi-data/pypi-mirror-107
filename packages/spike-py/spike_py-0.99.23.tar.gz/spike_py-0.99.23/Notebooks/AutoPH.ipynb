{
 "cells": [
  {
   "cell_type": "markdown",
   "metadata": {},
   "source": [
    "# Recipe to automatize FT-ICR spectra phasing\n",
    "a notebook to tune the algo, and see it running live...\n",
    "\n",
    "check for **`# Parameters`**"
   ]
  },
  {
   "cell_type": "code",
   "execution_count": null,
   "metadata": {
    "ExecuteTime": {
     "end_time": "2021-05-28T20:39:32.080442Z",
     "start_time": "2021-05-28T20:39:29.072058Z"
    }
   },
   "outputs": [],
   "source": [
    "# load all python and interactive tools - should be run only once\n",
    "from IPython.display import display, HTML, Markdown, Image\n",
    "display(Markdown('## STARTING Environment...'))\n",
    "import matplotlib as mpl\n",
    "import matplotlib.pyplot as plt\n",
    "import numpy as np\n",
    "%matplotlib widget\n",
    "import spike\n",
    "from spike.File import BrukerMS\n",
    "from spike.Interactive import INTER as I\n",
    "from spike.Interactive import FTICR_INTER as FI\n",
    "from spike.Interactive import INTER_MS as IMS\n",
    "from spike.Interactive.ipyfilechooser import FileChooser\n",
    "print(\"\\nInteractive module version,\",I.__version__)\n",
    "from datetime import datetime\n",
    "print('Run date:', datetime.now().isoformat() )\n",
    "I.initialize()\n",
    "display(Markdown('## ...program is Ready'))\n",
    "from importlib import reload  # this line is debugging help\n",
    "\n",
    "# configurable items\n",
    "mpl.rcParams['figure.figsize'] = (8,4)   # (X,Y) default figure size\n",
    "I.Activate_Wheel = True                  # True/False wheel control in the graphic cells \n",
    "\n",
    "\n",
    "from spike.plugins.Peaks import peak_aggreg\n",
    "import os\n",
    "class FCC:\n",
    "    pass\n",
    "FC = FCC()"
   ]
  },
  {
   "cell_type": "markdown",
   "metadata": {},
   "source": [
    "# Prepare\n",
    "### load"
   ]
  },
  {
   "cell_type": "code",
   "execution_count": null,
   "metadata": {
    "ExecuteTime": {
     "end_time": "2021-05-28T21:12:09.456560Z",
     "start_time": "2021-05-28T21:12:09.346120Z"
    },
    "scrolled": true
   },
   "outputs": [],
   "source": [
    "# Parameters\n",
    "FC.selected = \"/home/mad/Documents/DATA/DATA_res/FT-ICR/spectres MS complexes/polyA_ms_000001.d/fid\"\n",
    "FC.selected = \"/home/mad/Documents/DATA/DATA/FT-ICR/MvA/Phase/histonepeptide_ms2_000003.d/fid\"\n",
    "\n",
    "FC.selected_path = os.path.dirname(FC.selected)\n",
    "print('Reading file ',FC.selected)\n",
    "d1 = BrukerMS.Import_1D(FC.selected)\n",
    "d1.filename = FC.selected\n",
    "d1.set_unit('sec').display(title=FC.selected_path+\" transient\")\n",
    "d1"
   ]
  },
  {
   "cell_type": "markdown",
   "metadata": {},
   "source": [
    "### compute modulus spectrum"
   ]
  },
  {
   "cell_type": "code",
   "execution_count": null,
   "metadata": {
    "ExecuteTime": {
     "end_time": "2021-05-28T21:12:13.948727Z",
     "start_time": "2021-05-28T21:12:13.758437Z"
    }
   },
   "outputs": [],
   "source": [
    "D1md = d1.copy() # copy the imported data-set to another object for processing\n",
    "D1md.kaiser(6).zf(4).rfft().modulus() # kaiser(4) is an apodisation well adapted to FTICR, slightly more resolution than hamming(\n",
    "D1md.set_unit('m/z')#.display(title=FC.selected_path)  # set to ppm unit - and display"
   ]
  },
  {
   "cell_type": "markdown",
   "metadata": {},
   "source": [
    "### Find peaks and holes - and show - DON'T INCLUDE harmonics !"
   ]
  },
  {
   "cell_type": "code",
   "execution_count": null,
   "metadata": {
    "ExecuteTime": {
     "end_time": "2021-05-28T21:12:16.746185Z",
     "start_time": "2021-05-28T21:12:16.214893Z"
    }
   },
   "outputs": [],
   "source": [
    "# Parameters\n",
    "# Region of interest - in m/z\n",
    "lowmassOI = 400 #D1md.axis1.lowmass #472\n",
    "highmassOI = D1md.axis1.highmass\n",
    "\n",
    "# peak picking\n",
    "noisethreshold = 10    # sigma\n",
    "minimaldistance = 100  # in pixel\n",
    "\n",
    "# baseline\n",
    "baselinestrength = 2   # 1..4\n",
    "\n",
    "# find peaks\n",
    "D1md.set_unit('m/z').pp(autothresh=noisethreshold,  zoom=(highmassOI, lowmassOI))\n",
    "D1md.centroid()\n",
    "pks = peak_aggreg(D1md.peaks,minimaldistance)\n",
    "print(len(pks),'stored peaks')\n",
    "\n",
    "# find holes\n",
    "from spike.plugins.bcorr import autopoints\n",
    "import matplotlib.pyplot as plt\n",
    "P1,P2 = IMS.firstguess(D1md)\n",
    "xp = autopoints(D1md, int(baselinestrength*P2))\n",
    "\n",
    "#show\n",
    "D1md.set_unit(\"points\").display(title=FC.selected_path)\n",
    "plt.scatter(pks.pos, D1md.buffer[pks.pos.astype('int')], marker='x', c='b',label='peaks')\n",
    "plt.scatter(xp, D1md.buffer[xp], marker='.', c='r', label='base points')\n",
    "plt.legend()\n",
    "plt.gca().set_xbound(D1md.axis1.mztoi(lowmassOI),D1md.axis1.mztoi(highmassOI))  # to zoom in ROI"
   ]
  },
  {
   "cell_type": "code",
   "execution_count": null,
   "metadata": {
    "ExecuteTime": {
     "end_time": "2021-05-28T09:22:21.917049Z",
     "start_time": "2021-05-28T09:22:21.908593Z"
    }
   },
   "outputs": [],
   "source": [
    "D1md.axis1.highmass, D1md.axis1.itomz(100000), D1md.axis1.lowmass, D1md.axis1.itomz(500000) # limite possible dans le spectre"
   ]
  },
  {
   "cell_type": "markdown",
   "metadata": {},
   "source": [
    "Applied: phaseMS(70.5,  -1569.8, 16004.4, 0.00) + First Guess !"
   ]
  },
  {
   "cell_type": "markdown",
   "metadata": {},
   "source": [
    "# 1st step\n",
    "### compute phase-sensitive , and apply first guess"
   ]
  },
  {
   "cell_type": "code",
   "execution_count": null,
   "metadata": {
    "ExecuteTime": {
     "end_time": "2021-05-28T21:12:31.535356Z",
     "start_time": "2021-05-28T21:12:31.391485Z"
    }
   },
   "outputs": [],
   "source": [
    "D1 = d1.copy() # copy the imported data-set to another object for processing\n",
    "D1.apod_sin(maxi=0.15).zf(4).rfft().set_unit('points')\n",
    "P1,P2 = IMS.firstguess(D1)     # compute and apply firstguest\n",
    "print(\"first guess:\",P1,P2)\n",
    "D1.phaseMS(0, P1, P2, 0.0)"
   ]
  },
  {
   "cell_type": "code",
   "execution_count": null,
   "metadata": {
    "ExecuteTime": {
     "end_time": "2021-05-28T21:12:33.193773Z",
     "start_time": "2021-05-28T21:12:33.121370Z"
    }
   },
   "outputs": [],
   "source": [
    "D1.display()"
   ]
  },
  {
   "cell_type": "markdown",
   "metadata": {},
   "source": [
    "# 2nd step\n",
    "### estimate P0 , P1 on each peaks"
   ]
  },
  {
   "cell_type": "markdown",
   "metadata": {},
   "source": [
    "#### show priniple of phasing one little area"
   ]
  },
  {
   "cell_type": "code",
   "execution_count": null,
   "metadata": {
    "ExecuteTime": {
     "end_time": "2021-05-28T21:12:37.759402Z",
     "start_time": "2021-05-28T21:12:37.682739Z"
    },
    "scrolled": false
   },
   "outputs": [],
   "source": [
    "# Parameters\n",
    "# width around peak, in Dalton\n",
    "width = 1\n",
    "\n",
    "# the largest one\n",
    "largest = np.argmax(pks.intens)\n",
    "print(\"testing on peak\",pks[largest].report())\n",
    "center = pks[largest].pos\n",
    "\n",
    "# define zone around in points\n",
    "largmz = D1md.axis1.itomz(center)\n",
    "oneDalton = (D1md.axis1.mztoi(largmz-1)-center)  \n",
    "zone = [int(center-width*oneDalton), int(center+width*oneDalton)]\n",
    "dd = spike.NPKData._NPKData(buffer=D1.get_buffer()[zone[0]:zone[1]]).display(label='before')\n",
    "dd.apmin(first_order=False)\n",
    "p0, p1 = dd.axis1.P0, dd.axis1.P1\n",
    "dd.apmin(first_order=True, bcpoints=4)\n",
    "p0, p1 = p0+dd.axis1.P0, p1+dd.axis1.P1\n",
    "dd.bcorr(xpoints=100) #int(abs(baselinestrength*dd.axis1.P1)))\n",
    "dd.display(new_fig=False, label='after')\n",
    "plt.scatter(2*(center-zone[0]), pks[largest].intens)\n",
    "print('P0, P1',p0, p1)"
   ]
  },
  {
   "cell_type": "markdown",
   "metadata": {},
   "source": [
    "### do zone phasing around all peaks (kind of lengthy)"
   ]
  },
  {
   "cell_type": "code",
   "execution_count": null,
   "metadata": {
    "ExecuteTime": {
     "end_time": "2021-05-28T21:12:58.498541Z",
     "start_time": "2021-05-28T21:12:41.843564Z"
    }
   },
   "outputs": [],
   "source": [
    "# Parameters\n",
    "width = 2  # in Dalton\n",
    "\n",
    "def pkphase(D, Dm, pk, width=1, disp=False):\n",
    "    \"phase 1st order around a peak, +/- width around in m/z\"\n",
    "        # define zone around in points\n",
    "    center = pk.pos\n",
    "    largmz = Dm.axis1.itomz(center)\n",
    "    oneDalton = (Dm.axis1.mztoi(largmz-1)-center)  \n",
    "    zone = [int(center-width*oneDalton), int(center+width*oneDalton)]\n",
    "    dd = spike.NPKData._NPKData(buffer=D.get_buffer()[zone[0]:zone[1]] )\n",
    "    p0, p1 = 0, 0\n",
    "    if disp:\n",
    "        dd.display(label='avant')\n",
    "    dd.apmin(first_order=False)\n",
    "    p0, p1 = p0+dd.axis1.P0, p1+dd.axis1.P1\n",
    "    dd.apmin(first_order=True, bcpoints=6, debug=False)\n",
    "    p0, p1 = p0+dd.axis1.P0, p1+dd.axis1.P1\n",
    "    if disp:\n",
    "        plt.scatter(2*(center-zone[0]), pk.intens)\n",
    "        dd.display(label='apres',new_fig=False)\n",
    "    return (    p0, p1, zone )\n",
    "# do over whole spectrum\n",
    "pl0 = []\n",
    "pl1 = []\n",
    "xpk = []\n",
    "for i in range(len(pks)):\n",
    "    try:\n",
    "        p0,p1, zone = pkphase(D1, D1md, pks[i], width=width, disp=False)\n",
    "    except:\n",
    "        continue\n",
    "    if p1 !=0:\n",
    "        pp1 = D1.size1*p1/(zone[1]-zone[0])\n",
    "        pl0.append(p0)\n",
    "        pl1.append(pp1)\n",
    "        xpk.append(pks[i].pos)\n",
    "pl1 = np.array(pl1)/360 # change P1 in turns\n",
    "xpk = np.array(xpk)\n"
   ]
  },
  {
   "cell_type": "markdown",
   "metadata": {},
   "source": [
    "### show P0 and P1 estimated over the whole spectrum"
   ]
  },
  {
   "cell_type": "code",
   "execution_count": null,
   "metadata": {
    "ExecuteTime": {
     "end_time": "2021-05-28T21:13:03.405091Z",
     "start_time": "2021-05-28T21:13:03.372844Z"
    }
   },
   "outputs": [],
   "source": [
    "plt.figure()\n",
    "plt.scatter(xpk, pl0, marker='+',label='P0')\n",
    "plt.scatter(xpk, pl1, marker='x',label='P1')\n",
    "plt.legend()"
   ]
  },
  {
   "cell_type": "markdown",
   "metadata": {
    "ExecuteTime": {
     "end_time": "2021-05-27T19:08:10.162713Z",
     "start_time": "2021-05-27T19:08:10.128054Z"
    },
    "scrolled": false
   },
   "source": [
    "### fit P1 to  a line using robust stat"
   ]
  },
  {
   "cell_type": "code",
   "execution_count": null,
   "metadata": {
    "ExecuteTime": {
     "end_time": "2021-05-28T21:13:12.808536Z",
     "start_time": "2021-05-28T21:13:12.754620Z"
    }
   },
   "outputs": [],
   "source": [
    "from scipy.optimize import minimize\n",
    "def fitL1(xpeaks, p1list):\n",
    "    def costL1(sol):\n",
    "        \"cost function implementing L1 norm\"\n",
    "        a,b = sol\n",
    "        y = a*xpeaks+b\n",
    "        return sum(abs(y-p1list))\n",
    "    ini = (0,0)\n",
    "    resL1 = minimize(costL1, ini)\n",
    "    return resL1.x\n",
    "pp2,pp1 = fitL1(xpk, pl1)\n",
    "plt.plot(xpk,pp2*xpk+pp1, label='1st fit')\n",
    "print(pp1,pp2)"
   ]
  },
  {
   "cell_type": "markdown",
   "metadata": {},
   "source": [
    "### remove outliers and redo"
   ]
  },
  {
   "cell_type": "code",
   "execution_count": null,
   "metadata": {
    "ExecuteTime": {
     "end_time": "2021-05-28T21:13:17.664032Z",
     "start_time": "2021-05-28T21:13:17.619776Z"
    }
   },
   "outputs": [],
   "source": [
    "# Parameters\n",
    "sigma_outliers = 1.0\n",
    "\n",
    "res = (pp2*xpk+pp1-pl1)\n",
    "res.mean(), res.std()\n",
    "xpk2 = xpk[abs(res)<sigma_outliers*res.std()]\n",
    "pl12 = pl1[abs(res)<sigma_outliers*res.std()]\n",
    "print(len(xpk),len(xpk2))\n",
    "pp2,pp1 = fitL1(xpk2, pl12)\n",
    "plt.plot(xpk,pp2*xpk+pp1, label='2nd fit')\n",
    "plt.scatter(xpk2, pl12, marker='+', label='2nd fit')\n",
    "plt.legend()\n",
    "print(pp1,pp2)"
   ]
  },
  {
   "cell_type": "markdown",
   "metadata": {},
   "source": [
    "### as a check, apply this correction"
   ]
  },
  {
   "cell_type": "code",
   "execution_count": null,
   "metadata": {
    "ExecuteTime": {
     "end_time": "2021-05-28T21:13:23.901434Z",
     "start_time": "2021-05-28T21:13:23.897708Z"
    }
   },
   "outputs": [],
   "source": [
    "P2,pp2*D1.cpxsize1/4, P2+pp2*D1.cpxsize1/4"
   ]
  },
  {
   "cell_type": "code",
   "execution_count": null,
   "metadata": {
    "ExecuteTime": {
     "end_time": "2021-05-28T21:13:36.516195Z",
     "start_time": "2021-05-28T21:13:36.382742Z"
    }
   },
   "outputs": [],
   "source": [
    "PP1 = pp1\n",
    "PP2 = pp2*D1.cpxsize1/4  # WHY 4 it should be 2 !!!\n",
    "print(P1+PP1, P2+PP2)\n",
    "D1.phaseMS(0, PP1, PP2, 0).display()\n"
   ]
  },
  {
   "cell_type": "markdown",
   "metadata": {},
   "source": [
    "it's not done yet, errors remain\n",
    "\n",
    "So we should evaluate the error here and either continue or loop back to **2nd step**\n",
    "\n",
    "# 3rd step - Fine tune using 0th order.\n",
    "\n",
    "### propagate correction to initial p0 values"
   ]
  },
  {
   "cell_type": "code",
   "execution_count": null,
   "metadata": {
    "ExecuteTime": {
     "end_time": "2021-05-28T21:23:23.570799Z",
     "start_time": "2021-05-28T21:23:23.567890Z"
    }
   },
   "outputs": [],
   "source": [
    "nxpk = xpk/D1.cpxsize1\n",
    "newpl0 = (np.array(pl0)/360 - nxpk*(PP1 + PP2*nxpk)+0.5)%1  # changed unit to turns for homogeneity"
   ]
  },
  {
   "cell_type": "code",
   "execution_count": null,
   "metadata": {
    "ExecuteTime": {
     "end_time": "2021-05-28T21:23:24.190872Z",
     "start_time": "2021-05-28T21:23:24.150489Z"
    }
   },
   "outputs": [],
   "source": [
    "plt.figure()\n",
    "plt.scatter(xpk,newpl0,label='observed phase')\n",
    "plt.ylabel('P0')\n",
    "plt.legend()\n",
    "plt.title('observed phase after 2nd step');"
   ]
  },
  {
   "cell_type": "code",
   "execution_count": null,
   "metadata": {
    "ExecuteTime": {
     "end_time": "2021-05-28T21:14:44.075047Z",
     "start_time": "2021-05-28T21:14:44.067331Z"
    }
   },
   "outputs": [],
   "source": [
    "# unfold phase v2\n",
    "skip = newpl0[1:]-newpl0[:-1]\n",
    "#plt.scatter(xpk[1:],skip)\n",
    "for i in range(1,len(xpk)):\n",
    "    if skip[i-1]>0.5:\n",
    "        newpl0[i:] -= 1\n",
    "    if skip[i-1]<-0.5:\n",
    "        newpl0[i:] += 1\n",
    "plt.scatter(xpk, newpl0, marker='+')"
   ]
  },
  {
   "cell_type": "code",
   "execution_count": null,
   "metadata": {
    "ExecuteTime": {
     "end_time": "2021-05-28T21:15:01.943992Z",
     "start_time": "2021-05-28T21:15:01.936741Z"
    }
   },
   "outputs": [],
   "source": [
    "# unfold phase v1\n",
    "skip = newpl0[1:]-newpl0[:-1]\n",
    "#plt.scatter(xpk[1:],skip)\n",
    "for i in range(1,len(xpk)):\n",
    "    if skip[i-1]>0.5:\n",
    "        newpl0[i:] -= 1\n",
    "    if skip[i-1]<-0.5:\n",
    "        newpl0[i:] += 1\n",
    "plt.scatter(xpk, newpl0, marker='+')"
   ]
  },
  {
   "cell_type": "markdown",
   "metadata": {},
   "source": [
    "# and fit a 2nd order polynomial to it"
   ]
  },
  {
   "cell_type": "code",
   "execution_count": null,
   "metadata": {
    "ExecuteTime": {
     "end_time": "2021-05-28T21:15:48.622114Z",
     "start_time": "2021-05-28T21:15:48.609356Z"
    }
   },
   "outputs": [],
   "source": [
    "# first\n",
    "final = np.polyfit(xpk, newpl0, 2)\n",
    "plt.plot(xpk, np.polyval(final,xpk),label='1st fit')\n",
    "# reject outliers\n",
    "res = newpl0-np.polyval(final,xpk)\n",
    "xpk2 = xpk[abs(res)<2*res.std()]\n",
    "new2 = newpl0[abs(res)<2*res.std()]\n",
    "# redo\n",
    "final = np.polyfit(xpk2, new2, 2)\n",
    "plt.plot(xpk, np.polyval(final,xpk),label='2nd fit')\n",
    "plt.scatter(xpk2, new2, marker='+', label='2nd fit')\n",
    "plt.legend()\n",
    "plt.title('2nd order fit of the residual phase, after unfolding')\n",
    "print('P0 (degrees), P1, P2:',final[2]*360, final[1], final[0]*D1.cpxsize1)\n"
   ]
  },
  {
   "cell_type": "code",
   "execution_count": null,
   "metadata": {
    "ExecuteTime": {
     "end_time": "2021-05-28T21:20:20.405415Z",
     "start_time": "2021-05-28T21:20:20.362561Z"
    }
   },
   "outputs": [],
   "source": [
    "newnew = (np.array(pl0)/360 + np.polyval(final,xpk))%1\n",
    "plt.figure()\n",
    "plt.scatter(xpk, newnew)\n"
   ]
  },
  {
   "cell_type": "code",
   "execution_count": null,
   "metadata": {},
   "outputs": [],
   "source": []
  },
  {
   "cell_type": "code",
   "execution_count": null,
   "metadata": {
    "ExecuteTime": {
     "end_time": "2021-05-27T22:28:45.922567Z",
     "start_time": "2021-05-27T22:28:45.586825Z"
    }
   },
   "outputs": [],
   "source": [
    "print (360*final[2], P1+PP1+final[1], P2+PP2+final[0]*D1.cpxsize1)\n",
    "D1 = d1.copy() # copy the imported data-set to another object for processing\n",
    "D1.apod_sin(maxi=0.15).zf(4).rfft()\n",
    "D1.phaseMS(-360*final[2], P1+PP1-final[1], P2+PP2+final[0]*D1.cpxsize1, 0).set_unit('m/z').display()\n"
   ]
  },
  {
   "cell_type": "markdown",
   "metadata": {},
   "source": [
    "# Left overs - do not use"
   ]
  },
  {
   "cell_type": "code",
   "execution_count": null,
   "metadata": {},
   "outputs": [],
   "source": [
    "x = []\n",
    "y = []\n",
    "for i in range(-8,9,2):\n",
    "    x.append(dd[int(round(2*(center-zone[0])+i))])\n",
    "    y.append(dd[int(round(2*(center-zone[0])+i+1))])\n",
    "plt.figure()\n",
    "plt.scatter(x,y)\n",
    "plt.plot(0,0,'+')\n",
    "np.arctan2(sum(y),sum(x))*180/np.pi, sum(y), sum(x)"
   ]
  },
  {
   "cell_type": "code",
   "execution_count": null,
   "metadata": {},
   "outputs": [],
   "source": [
    "def pkdispa(data, pk, extend):\n",
    "    x = []\n",
    "    y = []\n",
    "    for i in range(-2*(extend//2),2*(extend//2)+1,2):\n",
    "        x.append(data[2*int(round(pk.pos+i))])\n",
    "        y.append(data[2*int(round(pk.pos+i))+1])\n",
    "    return np.arctan2(sum(y),sum(x))*180/np.pi    \n",
    "from spike.plugins.Peaks import peak_aggreg\n",
    "\n",
    "zone = [int(center-10*oneDalton), int(center+10*oneDalton)]\n",
    "\n",
    "dd = spike.NPKData._NPKData(buffer=D1.get_buffer()[zone[0]:zone[1]]).phase(90-160,-800).display(label='avant')\n",
    "#dd.apmin(first_order=False)\n",
    "#dd.apmin(first_order=True, bcpoints=20)\n",
    "dd.display(new_fig=False, label='apres')\n",
    "\n",
    "ddm = dd.copy().modulus().pp(autothresh=10)\n",
    "dd.peaks = peak_aggreg(ddm.peaks, 10)\n",
    "dd.display_peaks()"
   ]
  },
  {
   "cell_type": "code",
   "execution_count": null,
   "metadata": {},
   "outputs": [],
   "source": [
    "pkph = []\n",
    "for pk in dd.peaks:\n",
    "    pkph.append(pkphase(dd,pk,10))\n",
    "plt.figure()\n",
    "plt.scatter(dd.peaks.pos,pkph)"
   ]
  },
  {
   "cell_type": "code",
   "execution_count": null,
   "metadata": {},
   "outputs": [],
   "source": [
    "p0, p1 = dd.axis1.P0, dd.axis1.P1\n",
    "p0,p1"
   ]
  },
  {
   "cell_type": "code",
   "execution_count": null,
   "metadata": {},
   "outputs": [],
   "source": [
    "p0,p1"
   ]
  },
  {
   "cell_type": "code",
   "execution_count": null,
   "metadata": {},
   "outputs": [],
   "source": [
    "zone = [int(center-5*oneDalton), int(center+5*oneDalton)]\n",
    "dd = spike.NPKData._NPKData(buffer=D1.get_buffer()[zone[0]:zone[1]]).phase(5*p0,5*p1).display(label='avant')\n",
    "#dd.apmin(first_order=False)\n",
    "#dd.apmin(first_order=True,bcpoints=10)\n",
    "dd.display(new_fig=False)\n",
    "dd.bcorr(xpoints=100)\n",
    "dd.display(new_fig=False, label='après')"
   ]
  },
  {
   "cell_type": "code",
   "execution_count": null,
   "metadata": {},
   "outputs": [],
   "source": [
    "dd.axis1.P0, dd.axis1.P1\n"
   ]
  },
  {
   "cell_type": "code",
   "execution_count": null,
   "metadata": {},
   "outputs": [],
   "source": []
  }
 ],
 "metadata": {
  "kernelspec": {
   "display_name": "Python 3",
   "language": "python",
   "name": "python3"
  },
  "language_info": {
   "codemirror_mode": {
    "name": "ipython",
    "version": 3
   },
   "file_extension": ".py",
   "mimetype": "text/x-python",
   "name": "python",
   "nbconvert_exporter": "python",
   "pygments_lexer": "ipython3",
   "version": "3.8.5"
  },
  "varInspector": {
   "cols": {
    "lenName": 16,
    "lenType": 16,
    "lenVar": 40
   },
   "kernels_config": {
    "python": {
     "delete_cmd_postfix": "",
     "delete_cmd_prefix": "del ",
     "library": "var_list.py",
     "varRefreshCmd": "print(var_dic_list())"
    },
    "r": {
     "delete_cmd_postfix": ") ",
     "delete_cmd_prefix": "rm(",
     "library": "var_list.r",
     "varRefreshCmd": "cat(var_dic_list()) "
    }
   },
   "position": {
    "height": "522.483px",
    "left": "1083.8px",
    "right": "20px",
    "top": "68px",
    "width": "488.533px"
   },
   "types_to_exclude": [
    "module",
    "function",
    "builtin_function_or_method",
    "instance",
    "_Feature"
   ],
   "window_display": false
  }
 },
 "nbformat": 4,
 "nbformat_minor": 4
}
