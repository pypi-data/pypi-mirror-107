{
 "cells": [
  {
   "cell_type": "markdown",
   "id": "functioning-feature",
   "metadata": {},
   "source": [
    "# Alternate Solve Methods (Scipy and Petsc)\n",
    "Here we look at different ways of solving PDEs using external\n",
    "packages and python functionality.\n",
    "Different linear algebra backends can be accessed by changing setting the\n",
    "`storage` parameter during construction of the discrete space. All\n",
    "discrete functions and operators/schemes based on this space will then\n",
    "use this backend. Available backends are `fem,istl,petsc`. The default is\n",
    "`fem` which uses simple data structures and linear solvers implemented in\n",
    "the `dune-fem` package. The simplicity of the data structure makes it\n",
    "possible to use the buffer protocol to seamlessly move between C++ and\n",
    "Numpy/Scipy data structures on the python side. A degrees of freedom\n",
    "vector (dof vector) can be retrieved # from a discrete function over the\n",
    "`fem` space by using the `as_numpy` method. Similar methods are available\n",
    "for the other storages, i.e., `as_istl,as_petsc`. The same methods are\n",
    "also available to retrieve the underlying matrix structures of linear\n",
    "operators.\n",
    "\n",
    "We will revisit the nonlinear time dependent problem studied in the\n",
    "introduction which after discretizing in time had the variational formulation\n",
    "\\begin{equation}\n",
    "\\begin{split}\n",
    "\\int_{\\Omega} \\frac{u^{n+1}-u^n}{\\Delta t} \\varphi\n",
    "+ \\frac{1}{2}K(\\nabla u^{n+1}) \\nabla u^{n+1} \\cdot \\nabla \\varphi \\\n",
    "+ \\frac{1}{2}K(\\nabla u^n) \\nabla u^n \\cdot \\nabla \\varphi v\\ dx \\\\\n",
    "- \\int_{\\Omega} \\frac{1}{2}(f(x,t^n)+f(x,t^n+\\Delta t) \\varphi\\ dx\n",
    "- \\int_{\\partial \\Omega} \\frac{1}{2}(g(x,t^n)+g(x,t^n+\\Delta t)) v\\ ds\n",
    "= 0.\n",
    "\\end{split}\n",
    "\\end{equation}\n",
    "on a domain $\\Omega=[0,1]^2$. We choose $f,g$ so that the exact solution\n",
    "is given by\n",
    "\\begin{align*}\n",
    "u(x,t) = e^{-2t}\\left(\\frac{1}{2}(x^2 + y^2) - \\frac{1}{3}(x^3 - y^3)\\right) + 1\n",
    "\\end{align*}\n",
    "The following code was described in the introduction:"
   ]
  },
  {
   "cell_type": "code",
   "execution_count": 1,
   "id": "collect-official",
   "metadata": {
    "execution": {
     "iopub.execute_input": "2021-05-26T10:08:58.313327Z",
     "iopub.status.busy": "2021-05-26T10:08:58.311973Z",
     "iopub.status.idle": "2021-05-26T10:20:50.293791Z",
     "shell.execute_reply": "2021-05-26T10:20:50.292672Z"
    },
    "lines_to_next_cell": 1
   },
   "outputs": [],
   "source": [
    "import matplotlib\n",
    "matplotlib.rc( 'image', cmap='jet' )\n",
    "import math, sys, io\n",
    "\n",
    "from dune.grid import structuredGrid as leafGridView\n",
    "from dune.fem.space import lagrange as solutionSpace\n",
    "from dune.fem.scheme import galerkin as solutionScheme\n",
    "from dune.fem.function import gridFunction, cppFunction, integrate, uflFunction\n",
    "from dune.ufl import DirichletBC, Constant\n",
    "from ufl import TestFunction, TrialFunction, SpatialCoordinate, FacetNormal, \\\n",
    "                dx, ds, div, grad, dot, inner, sqrt, exp, sin\n",
    "\n",
    "gridView = leafGridView([0, 0], [1, 1], [4, 4])\n",
    "space = solutionSpace(gridView, order=2)\n",
    "\n",
    "x = SpatialCoordinate(space)\n",
    "initial = 1/2*(x[0]**2+x[1]**2) - 1/3*(x[0]**3 - x[1]**3) + 1\n",
    "exact   = lambda t: exp(-2*t)*(initial - 1) + 1\n",
    "\n",
    "u_h   = space.interpolate(initial, name='u_h')\n",
    "u_h_n = u_h.copy(name=\"previous\")\n",
    "\n",
    "u = TrialFunction(space)\n",
    "v = TestFunction(space)\n",
    "dt = Constant(0, name=\"dt\")    # time step\n",
    "t  = Constant(0, name=\"t\")     # current time\n",
    "\n",
    "abs_du = lambda u: sqrt(inner(grad(u), grad(u)))\n",
    "K = lambda u: 2/(1 + sqrt(1 + 4*abs_du(u)))\n",
    "a = ( dot((u - u_h_n)/dt, v) \\\n",
    "    + 0.5*dot(K(u)*grad(u), grad(v)) \\\n",
    "    + 0.5*dot(K(u_h_n)*grad(u_h_n), grad(v)) ) * dx\n",
    "\n",
    "f = lambda s: -2*exp(-2*s)*(initial - 1) - div( K(exact(s))*grad(exact(s)) )\n",
    "g = lambda s: K(exact(s))*grad(exact(s))\n",
    "n = FacetNormal(space)\n",
    "b = 0.5*(f(t)+f(t+dt))*v*dx + 0.5*dot(g(t)+g(t+dt),n)*v*ds\n",
    "\n",
    "scheme = solutionScheme(a == b, solver='cg')\n",
    "\n",
    "endTime    = 0.25\n",
    "exact_end  = exact(endTime)\n",
    "l2error = uflFunction(gridView, name=\"l2error\", order=u_h.space.order, ufl=dot(u_h - exact_end, u_h - exact_end))\n",
    "h1error = uflFunction(gridView, name=\"h1error\", order=u_h.space.order, ufl=dot(grad(u_h - exact_end), grad(u_h - exact_end)))"
   ]
  },
  {
   "cell_type": "markdown",
   "id": "equipped-transfer",
   "metadata": {},
   "source": [
    "We define a function to evolve the solution from time 0 to the end time.\n",
    "The first argument is a class with a `solve` method that moves the\n",
    "solution from one time level to the next - i.e., solves for $u^{n+1}$\n",
    "given $u^n$:"
   ]
  },
  {
   "cell_type": "code",
   "execution_count": 2,
   "id": "auburn-water",
   "metadata": {
    "execution": {
     "iopub.execute_input": "2021-05-26T10:20:50.299470Z",
     "iopub.status.busy": "2021-05-26T10:20:50.298690Z",
     "iopub.status.idle": "2021-05-26T10:20:50.301051Z",
     "shell.execute_reply": "2021-05-26T10:20:50.300298Z"
    },
    "lines_to_next_cell": 1
   },
   "outputs": [],
   "source": [
    "def evolve(scheme, u_h, u_h_n, endTime):\n",
    "    time = 0\n",
    "    while time < (endTime - 1e-6):\n",
    "        scheme.model.t = time\n",
    "        u_h_n.assign(u_h)\n",
    "        scheme.solve(target=u_h)\n",
    "        time += scheme.model.dt"
   ]
  },
  {
   "cell_type": "markdown",
   "id": "animated-float",
   "metadata": {},
   "source": [
    "We can simply use the `scheme` in this function to produce the solution\n",
    "at the final time. We combine this with a loop to compute the error over\n",
    "two grids and estimate the convergence rate:"
   ]
  },
  {
   "cell_type": "code",
   "execution_count": 3,
   "id": "flush-assets",
   "metadata": {
    "execution": {
     "iopub.execute_input": "2021-05-26T10:20:50.423705Z",
     "iopub.status.busy": "2021-05-26T10:20:50.384798Z",
     "iopub.status.idle": "2021-05-26T10:22:29.333165Z",
     "shell.execute_reply": "2021-05-26T10:22:29.334048Z"
    }
   },
   "outputs": [
    {
     "name": "stdout",
     "output_type": "stream",
     "text": [
      "Forchheimer: step: 0 , size: 16\n",
      "\t | u_h - u | = 1.30293e-04 , eoc = -\n",
      "\t | grad(uh - u) | = 3.99906e-03 , eoc = -\n"
     ]
    },
    {
     "data": {
      "image/png": "[encoded data removed]",
      "text/plain": [
       "<Figure size 432x288 with 2 Axes>"
      ]
     },
     "metadata": {
      "needs_background": "light"
     },
     "output_type": "display_data"
    },
    {
     "name": "stdout",
     "output_type": "stream",
     "text": [
      "Forchheimer: step: 1 , size: 64\n",
      "\t | u_h - u | = 1.61440e-05 , eoc = 3.01\n",
      "\t | grad(uh - u) | = 9.99164e-04 , eoc = 2.0\n"
     ]
    },
    {
     "data": {
      "image/png": "[encoded data removed]",
      "text/plain": [
       "<Figure size 432x288 with 2 Axes>"
      ]
     },
     "metadata": {
      "needs_background": "light"
     },
     "output_type": "display_data"
    }
   ],
   "source": [
    "scheme.model.dt = 0.005\n",
    "\n",
    "errors = 0,0\n",
    "loops = 2\n",
    "for eocLoop in range(loops):\n",
    "    u_h.interpolate(initial)\n",
    "    evolve(scheme, u_h, u_h_n, endTime)\n",
    "    errors_old = errors\n",
    "    errors = [sqrt(e) for e in integrate(gridView, [l2error,h1error], order=5)]\n",
    "    if eocLoop == 0:\n",
    "        eocs = ['-','-']\n",
    "    else:\n",
    "        eocs = [ round(math.log(e/e_old)/math.log(0.5),2) \\\n",
    "                 for e,e_old in zip(errors,errors_old) ]\n",
    "    print('Forchheimer: step:', eocLoop, ', size:', gridView.size(0))\n",
    "    print('\\t | u_h - u | =', '{:0.5e}'.format(errors[0]), ', eoc =', eocs[0])\n",
    "    print('\\t | grad(uh - u) | =', '{:0.5e}'.format(errors[1]), ', eoc =', eocs[1])\n",
    "    u_h.plot()\n",
    "    if eocLoop < loops-1:\n",
    "        gridView.hierarchicalGrid.globalRefine(1)\n",
    "        scheme.model.dt /= 2"
   ]
  },
  {
   "cell_type": "markdown",
   "id": "offshore-mason",
   "metadata": {},
   "source": [
    "## Using Scipy\n",
    "We implement a simple Newton Krylov solver using a linear solver from\n",
    "Scipy. We can use the `as_numpy` method to access the degrees of freedom as\n",
    "Numpy vector based on the `python buffer protocol`. So no data is copied\n",
    "and changes to the dofs made on the python side are automatically carried\n",
    "over to the C++ side.\n",
    "from Scipy."
   ]
  },
  {
   "cell_type": "code",
   "execution_count": 4,
   "id": "controlled-classification",
   "metadata": {
    "execution": {
     "iopub.execute_input": "2021-05-26T10:22:29.342191Z",
     "iopub.status.busy": "2021-05-26T10:22:29.341083Z",
     "iopub.status.idle": "2021-05-26T10:24:39.425125Z",
     "shell.execute_reply": "2021-05-26T10:24:39.426014Z"
    }
   },
   "outputs": [
    {
     "name": "stdout",
     "output_type": "stream",
     "text": [
      "Forchheimer(numpy) size:  64 L^2, H^1 error: 1.61699e-05, 9.99162e-04\n"
     ]
    }
   ],
   "source": [
    "from dune.fem.operator import linear as linearOperator\n",
    "import numpy as np\n",
    "from scipy.sparse.linalg import spsolve as solver\n",
    "class Scheme:\n",
    "  def __init__(self, scheme):\n",
    "      self.model = scheme.model\n",
    "      self.jacobian = linearOperator(scheme)\n",
    "\n",
    "  def solve(self, target):\n",
    "      # create a copy of target for the residual\n",
    "      res = target.copy(name=\"residual\")\n",
    "\n",
    "      # extract numpy vectors from target and res\n",
    "      sol_coeff = target.as_numpy\n",
    "      res_coeff = res.as_numpy\n",
    "\n",
    "      n = 0\n",
    "      while True:\n",
    "          scheme(target, res)\n",
    "          absF = math.sqrt( np.dot(res_coeff,res_coeff) )\n",
    "          if absF < 1e-10:\n",
    "              break\n",
    "          scheme.jacobian(target,self.jacobian)\n",
    "          sol_coeff -= solver(self.jacobian.as_numpy, res_coeff)\n",
    "          n += 1\n",
    "\n",
    "scheme_cls = Scheme(scheme)\n",
    "\n",
    "u_h.interpolate(initial)                # reset u_h to initial\n",
    "evolve(scheme_cls, u_h, u_h_n, endTime)\n",
    "error = u_h - exact_end\n",
    "print(\"Forchheimer(numpy) size: \", gridView.size(0), \"L^2, H^1 error:\",'{:0.5e}, {:0.5e}'.format(\n",
    "  *[ sqrt(e) for e in integrate(gridView,[error**2,inner(grad(error),grad(error))], order=5) ]))"
   ]
  },
  {
   "cell_type": "markdown",
   "id": "frank-burlington",
   "metadata": {},
   "source": [
    "Using a non linear solver from the Scipy package"
   ]
  },
  {
   "cell_type": "code",
   "execution_count": 5,
   "id": "effective-health",
   "metadata": {
    "execution": {
     "iopub.execute_input": "2021-05-26T10:24:39.435222Z",
     "iopub.status.busy": "2021-05-26T10:24:39.434595Z",
     "iopub.status.idle": "2021-05-26T10:24:42.727957Z",
     "shell.execute_reply": "2021-05-26T10:24:42.728286Z"
    }
   },
   "outputs": [
    {
     "name": "stdout",
     "output_type": "stream",
     "text": [
      "Forchheimer(scipy) size:  64 L^2, H^1 error: 1.61699e-05, 9.99162e-04\n"
     ]
    }
   ],
   "source": [
    "from scipy.optimize import newton_krylov\n",
    "from scipy.sparse.linalg import LinearOperator\n",
    "from scipy.sparse.linalg import cg as solver\n",
    "\n",
    "class Scheme2:\n",
    "    def __init__(self, scheme):\n",
    "        self.scheme = scheme\n",
    "        self.model = scheme.model\n",
    "        self.res = u_h.copy(name=\"residual\")\n",
    "\n",
    "    # non linear function\n",
    "    def f(self, x_coeff):\n",
    "        # the following converts a given numpy array\n",
    "        # into a discrete function over the given space\n",
    "        x = space.function(\"tmp\", dofVector=x_coeff)\n",
    "        scheme(x, self.res)\n",
    "        return self.res.as_numpy\n",
    "\n",
    "    # class for the derivative DS of S\n",
    "    class Df(LinearOperator):\n",
    "        def __init__(self, x_coeff):\n",
    "            self.shape = (x_coeff.shape[0], x_coeff.shape[0])\n",
    "            self.dtype = x_coeff.dtype\n",
    "            x = space.function(\"tmp\", dofVector=x_coeff)\n",
    "            self.jacobian = linearOperator(scheme, ubar=x)\n",
    "        # reassemble the matrix DF(u) given a DoF vector for u\n",
    "        def update(self, x_coeff, f):\n",
    "            x = space.function(\"tmp\", dofVector=x_coeff)\n",
    "            scheme.jacobian(x, self.jacobian)\n",
    "        # compute DS(u)^{-1}x for a given DoF vector x\n",
    "        def _matvec(self, x_coeff):\n",
    "            return solver(self.jacobian.as_numpy, x_coeff, tol=1e-10)[0]\n",
    "\n",
    "    def solve(self, target):\n",
    "        sol_coeff = target.as_numpy\n",
    "        # call the newton krylov solver from scipy\n",
    "        sol_coeff[:] = newton_krylov(self.f, sol_coeff,\n",
    "                    verbose=0, f_tol=1e-8,\n",
    "                    inner_M=self.Df(sol_coeff))\n",
    "\n",
    "scheme2_cls = Scheme2(scheme)\n",
    "u_h.interpolate(initial)\n",
    "evolve(scheme2_cls, u_h, u_h_n, endTime)\n",
    "error = u_h - exact_end\n",
    "print(\"Forchheimer(scipy) size: \", gridView.size(0), \"L^2, H^1 error:\",'{:0.5e}, {:0.5e}'.format(\n",
    "  *[ sqrt(e) for e in integrate(gridView,[error**2,inner(grad(error),grad(error))], order=5) ]))"
   ]
  },
  {
   "cell_type": "markdown",
   "id": "large-tamil",
   "metadata": {},
   "source": [
    "## Using Petsc and Petsc4Py\n",
    "Switching to a storage based on the PETSc solver package and solving the\n",
    "system using the dune-fem bindings"
   ]
  },
  {
   "cell_type": "code",
   "execution_count": 6,
   "id": "advance-vegetarian",
   "metadata": {
    "execution": {
     "iopub.execute_input": "2021-05-26T10:24:42.739110Z",
     "iopub.status.busy": "2021-05-26T10:24:42.738677Z",
     "iopub.status.idle": "2021-05-26T10:24:42.754463Z",
     "shell.execute_reply": "2021-05-26T10:24:42.753802Z"
    }
   },
   "outputs": [
    {
     "name": "stdout",
     "output_type": "stream",
     "text": [
      "petsc4py found but petsc was not found during configuration of dune\n",
      "petsc module not found so skipping example - ignored\n"
     ]
    }
   ],
   "source": [
    "from dune.generator import ConfigurationError\n",
    "try:\n",
    "    import petsc4py\n",
    "    petsc4py.init(sys.argv)\n",
    "    from petsc4py import PETSc\n",
    "    spacePetsc = solutionSpace(gridView, order=2, storage='petsc')\n",
    "except ModuleNotFoundError:\n",
    "    print(\"petsc4py not found: skipping example\")\n",
    "    print(\"petsc4py module not found so skipping example - ignored\")\n",
    "    petsc4py = None\n",
    "except ConfigurationError:\n",
    "    print(\"petsc4py found but petsc was not found during configuration of dune\")\n",
    "    petsc4py = None\n",
    "    pass\n",
    "\n",
    "if petsc4py is not None:\n",
    "    # first we will use the petsc solver available in the `dune-fem` package\n",
    "    # (using the sor preconditioner)\n",
    "    schemePetsc = solutionScheme(a == b, space=spacePetsc,\n",
    "                    parameters={\"linear.preconditioning.method\":\"sor\"})\n",
    "    schemePetsc.model.dt = scheme.model.dt\n",
    "    u_h = spacePetsc.interpolate(initial, name='u_h')\n",
    "    u_h_n = u_h.copy(name=\"previous\")\n",
    "    evolve(schemePetsc, u_h, u_h_n, endTime)\n",
    "    error = u_h - exact_end\n",
    "    print(\"Forchheimer(petsc) size: \", gridView.size(0), \"L^2, H^1 error:\",'{:0.5e}, {:0.5e}'.format(\n",
    "      *[ sqrt(e) for e in integrate(gridView,[error**2,inner(grad(error),grad(error))], order=5) ]))\n",
    "else:\n",
    "    print(\"petsc module not found so skipping example - ignored\")\n",
    "    spacePetsc = None\n",
    "    pass"
   ]
  },
  {
   "cell_type": "markdown",
   "id": "adapted-house",
   "metadata": {},
   "source": [
    "Implementing a Newton Krylov solver using the binding provided by petsc4py\n",
    "\n",
    "__Note__: this is not working at the moment!"
   ]
  },
  {
   "cell_type": "code",
   "execution_count": 7,
   "id": "reasonable-place",
   "metadata": {
    "execution": {
     "iopub.execute_input": "2021-05-26T10:24:42.761421Z",
     "iopub.status.busy": "2021-05-26T10:24:42.760454Z",
     "iopub.status.idle": "2021-05-26T10:24:42.763188Z",
     "shell.execute_reply": "2021-05-26T10:24:42.762523Z"
    }
   },
   "outputs": [],
   "source": [
    "if 0: # petsc4py is not None and spacePetsc is not None:\n",
    "    class Scheme3:\n",
    "      def __init__(self, scheme):\n",
    "          self.model = scheme.model\n",
    "          self.jacobian = linearOperator(scheme)\n",
    "          self.ksp = PETSc.KSP()\n",
    "          self.ksp.create(PETSc.COMM_WORLD)\n",
    "          # use conjugate gradients method\n",
    "          self.ksp.setType(\"cg\")\n",
    "          # and incomplete Cholesky\n",
    "          self.ksp.getPC().setType(None) # \"icc\")\n",
    "          self.ksp.setOperators(self.jacobian.as_petsc)\n",
    "          self.ksp.setFromOptions()\n",
    "      def solve(self, target):\n",
    "          res = target.copy(name=\"residual\")\n",
    "          sol_coeff = target.as_petsc\n",
    "          res_coeff = res.as_petsc\n",
    "          n = 0\n",
    "          while True:\n",
    "              schemePetsc(target, res)\n",
    "              absF = math.sqrt( res_coeff.dot(res_coeff) )\n",
    "              if absF < 1e-10:\n",
    "                  break\n",
    "              schemePetsc.jacobian(target, self.jacobian)\n",
    "              self.ksp.solve(res_coeff, res_coeff)\n",
    "              sol_coeff -= res_coeff\n",
    "              n += 1\n",
    "\n",
    "    u_h.interpolate(initial)\n",
    "    scheme3_cls = Scheme3(schemePetsc)\n",
    "    evolve(scheme3_cls, u_h, u_h_n, endTime)\n",
    "    error = u_h - exact_end\n",
    "    print(\"Forchheimer(petsc) size: \", gridView.size(0), \"L^2, H^1 error:\",'{:0.5e}, {:0.5e}'.format(\n",
    "      *[ sqrt(e) for e in integrate(gridView,[error**2,inner(grad(error),grad(error))], order=5) ]))"
   ]
  },
  {
   "cell_type": "markdown",
   "id": "meaning-handy",
   "metadata": {},
   "source": [
    "Using the petsc4py bindings for the non linear KSP solvers from PETSc\n",
    "__Note__: this is not working at the moment!"
   ]
  },
  {
   "cell_type": "code",
   "execution_count": 8,
   "id": "dedicated-method",
   "metadata": {
    "execution": {
     "iopub.execute_input": "2021-05-26T10:24:42.770941Z",
     "iopub.status.busy": "2021-05-26T10:24:42.770391Z",
     "iopub.status.idle": "2021-05-26T10:24:42.772770Z",
     "shell.execute_reply": "2021-05-26T10:24:42.772306Z"
    }
   },
   "outputs": [],
   "source": [
    "if 0: # petsc4py is not None and spacePetsc is not None:\n",
    "    class Scheme4:\n",
    "        def __init__(self, scheme):\n",
    "            self.model = scheme.model\n",
    "            self.res = scheme.space.interpolate([0],name=\"residual\")\n",
    "            self.scheme = scheme\n",
    "            self.jacobian = linearOperator(self.scheme)\n",
    "            self.snes = PETSc.SNES().create()\n",
    "            self.snes.setFunction(self.f, self.res.as_petsc.duplicate())\n",
    "            self.snes.setUseMF(False)\n",
    "            self.snes.setJacobian(self.Df, self.jacobian.as_petsc, self.jacobian.as_petsc)\n",
    "            self.snes.getKSP().setType(\"cg\")\n",
    "            self.snes.setFromOptions()\n",
    "\n",
    "        def f(self, snes, x, f):\n",
    "            # setup discrete function using the provide petsc vectors\n",
    "            inDF = self.scheme.space.function(\"tmp\",dofVector=x)\n",
    "            outDF = self.scheme.space.function(\"tmp\",dofVector=f)\n",
    "            self.scheme(inDF,outDF)\n",
    "\n",
    "        def Df(self, snes, x, m, b):\n",
    "            inDF = self.scheme.space.function(\"tmp\",dofVector=x)\n",
    "            self.scheme.jacobian(inDF, self.jacobian)\n",
    "            return PETSc.Mat.Structure.SAME_NONZERO_PATTERN\n",
    "\n",
    "        def solve(self, target):\n",
    "            sol_coeff = target.as_petsc\n",
    "            self.res.clear()\n",
    "            self.snes.solve(self.res.as_petsc, sol_coeff)\n",
    "\n",
    "    u_h.interpolate(initial)\n",
    "    scheme4_cls = Scheme4(schemePetsc)\n",
    "    evolve(scheme4_cls, u_h, u_h_n, endTime)\n",
    "    error = u_h - exact_end\n",
    "    print(\"Forchheimer(petsc4py) size: \", gridView.size(0), \"L^2, H^1 error:\",'{:0.5e}, {:0.5e}'.format(\n",
    "      *[ sqrt(e) for e in integrate(gridView,[error**2,inner(grad(error),grad(error))], order=5) ]))"
   ]
  }
 ],
 "metadata": {
  "jupytext": {
   "cell_metadata_filter": "-all"
  },
  "kernelspec": {
   "display_name": "Python 3",
   "language": "python",
   "name": "python3"
  },
  "language_info": {
   "codemirror_mode": {
    "name": "ipython",
    "version": 3
   },
   "file_extension": ".py",
   "mimetype": "text/x-python",
   "name": "python",
   "nbconvert_exporter": "python",
   "pygments_lexer": "ipython3",
   "version": "3.8.5"
  }
 },
 "nbformat": 4,
 "nbformat_minor": 5
}
