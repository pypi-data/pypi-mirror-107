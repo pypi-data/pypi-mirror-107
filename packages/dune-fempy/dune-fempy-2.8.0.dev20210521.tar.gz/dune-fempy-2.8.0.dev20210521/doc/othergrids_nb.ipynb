{
 "cells": [
  {
   "cell_type": "markdown",
   "id": "retired-perth",
   "metadata": {
    "lines_to_next_cell": 0
   },
   "source": [
    "# 1D and 3D examples (using GMesh files)\n",
    "In this example we use pygmsh to construct a tetrahedral mesh and olve a\n",
    "simple laplace problem"
   ]
  },
  {
   "cell_type": "raw",
   "id": "varying-finland",
   "metadata": {
    "raw_mimetype": "text/restructuredtext"
   },
   "source": [
    ".. index:: grid construction; pygmsh"
   ]
  },
  {
   "cell_type": "code",
   "execution_count": 1,
   "id": "posted-amsterdam",
   "metadata": {
    "execution": {
     "iopub.execute_input": "2021-05-26T10:19:48.141276Z",
     "iopub.status.busy": "2021-05-26T10:19:48.140148Z",
     "iopub.status.idle": "2021-05-26T10:26:08.679919Z",
     "shell.execute_reply": "2021-05-26T10:26:08.678957Z"
    }
   },
   "outputs": [],
   "source": [
    "import numpy, math\n",
    "import matplotlib\n",
    "matplotlib.rc( 'image', cmap='jet' )\n",
    "from matplotlib import pyplot\n",
    "from dune.alugrid import aluSimplexGrid as leafGridView3d\n",
    "from dune.grid import OutputType\n",
    "from dune.fem.space import lagrange as solutionSpace\n",
    "from dune.fem.scheme import galerkin as solutionScheme\n",
    "from ufl import TestFunction, TrialFunction, SpatialCoordinate\n",
    "from ufl import dx, grad, grad, dot, inner, conditional, sin\n",
    "\n",
    "# The following code is taken from the `pygmsh` homepage\n",
    "try:\n",
    "    import pygmsh\n",
    "    with pygmsh.geo.Geometry() as geom:\n",
    "        poly = geom.add_polygon([\n",
    "              [ 0.0,  0.5, 0.0], [-0.1,  0.1, 0.0], [-0.5,  0.0, 0.0],\n",
    "              [-0.1, -0.1, 0.0], [ 0.0, -0.5, 0.0], [ 0.1, -0.1, 0.0],\n",
    "              [ 0.5,  0.0, 0.0], [ 0.1,  0.1, 0.0] ], mesh_size=0.05)\n",
    "        geom.twist(\n",
    "            poly,\n",
    "            translation_axis=[0, 0, 1], rotation_axis=[0, 0, 1], point_on_axis=[0, 0, 0],\n",
    "            angle=numpy.pi / 3,\n",
    "        )\n",
    "        mesh = geom.generate_mesh(verbose=False)\n",
    "\n",
    "    points, cells = mesh.points, mesh.cells_dict\n",
    "    domain3d = {\"vertices\":points.astype(\"float\"), \"simplices\":cells[\"tetra\"]}\n",
    "except ImportError: # pygmsh not installed - use a simple cartesian domain\n",
    "    print(\"pygmsh module not found using a simple Cartesian domain - ignored\")\n",
    "    from dune.grid import cartesianDomain\n",
    "    domain3d = cartesianDomain([-0.25,-0.25,0],[0.25,0.25,1],[30,30,60])\n",
    "\n",
    "gridView3d  = leafGridView3d(domain3d)\n",
    "space3d = solutionSpace(gridView3d, order=1)\n",
    "\n",
    "u = TrialFunction(space3d)\n",
    "v = TestFunction(space3d)\n",
    "x = SpatialCoordinate(space3d)\n",
    "scheme3d = solutionScheme((inner(grad(u),grad(v))+inner(u,v))*dx ==\n",
    "                        conditional(dot(x,x)<.01,100,0)*v*dx,\n",
    "                        solver='cg')\n",
    "\n",
    "uh3d = space3d.interpolate([0],name=\"solution\")\n",
    "scheme3d.solve(target=uh3d)\n",
    "# note: plotting with matplotlib not yet available for 3d grids\n",
    "gridView3d.writeVTK('3dexample', pointdata=[uh3d],\n",
    "                    outputType=OutputType.appendedraw)"
   ]
  },
  {
   "cell_type": "markdown",
   "id": "armed-overall",
   "metadata": {},
   "source": [
    "![3d laplace problem](figures/3dexample.png)"
   ]
  },
  {
   "cell_type": "markdown",
   "id": "rolled-dragon",
   "metadata": {},
   "source": [
    "We can also do 1D"
   ]
  },
  {
   "cell_type": "code",
   "execution_count": 2,
   "id": "distant-polish",
   "metadata": {
    "execution": {
     "iopub.execute_input": "2021-05-26T10:26:08.686859Z",
     "iopub.status.busy": "2021-05-26T10:26:08.685927Z",
     "iopub.status.idle": "2021-05-26T10:29:56.077236Z",
     "shell.execute_reply": "2021-05-26T10:29:56.077610Z"
    }
   },
   "outputs": [
    {
     "data": {
      "image/png": "[encoded data removed]",
      "text/plain": [
       "<Figure size 432x288 with 1 Axes>"
      ]
     },
     "metadata": {
      "needs_background": "light"
     },
     "output_type": "display_data"
    }
   ],
   "source": [
    "from dune.grid import onedGrid\n",
    "v = [math.log(i) for i in range(1,100)]\n",
    "e = [(i,i+1) for i in range(1,len(v))]\n",
    "g = onedGrid(constructor={\"vertices\":v, \"simplices\":e})\n",
    "s = solutionSpace(g)\n",
    "x = SpatialCoordinate(s)\n",
    "u = s.interpolate(sin(x[0]), name=\"u\")\n",
    "u.plot()"
   ]
  },
  {
   "cell_type": "markdown",
   "id": "guilty-drove",
   "metadata": {},
   "source": [
    "pyplot can very easily be used in 1d:\n",
    "pyplot.plot(g.tesselate()[0], u.pointData(), '-p')"
   ]
  }
 ],
 "metadata": {
  "jupytext": {
   "cell_metadata_filter": "raw_mimetype,-all"
  },
  "kernelspec": {
   "display_name": "Python 3",
   "language": "python",
   "name": "python3"
  },
  "language_info": {
   "codemirror_mode": {
    "name": "ipython",
    "version": 3
   },
   "file_extension": ".py",
   "mimetype": "text/x-python",
   "name": "python",
   "nbconvert_exporter": "python",
   "pygments_lexer": "ipython3",
   "version": "3.8.5"
  }
 },
 "nbformat": 4,
 "nbformat_minor": 5
}
