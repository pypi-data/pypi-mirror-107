{
 "cells": [
  {
   "cell_type": "markdown",
   "id": "registered-explanation",
   "metadata": {},
   "source": [
    "# A Nonlinear Time Dependent Problem\n",
    "Now we can set up our PDE model\n",
    "As an example we will study the Forchheimer problem\n",
    "<cite data-cite=\"Kieu\"></cite>\n",
    "which is a scalar, nonlinear parabolic equation\n",
    "\\begin{equation}\n",
    "\\partial_tu - \\nabla\\cdot K(\\nabla u)\\nabla u = f\n",
    "\\end{equation}\n",
    "where the diffusion tensor is given by\n",
    "\\begin{equation}\n",
    "K(\\nabla u) = \\frac{2}{1+\\sqrt{1+4|\\nabla u|}}\n",
    "\\end{equation}\n",
    "and $f=f(x,t)$ is some time dependent forcing term.\n",
    "On the boundary we prescribe Neumann boundary as before\n",
    "and initial conditions $u=u_0$.\n",
    "\n",
    "We will solve this problem in variational form and using Crank Nicholson in time\n",
    "\\begin{equation}\n",
    "\\begin{split}\n",
    "\\int_{\\Omega} \\frac{u^{n+1}-u^n}{\\Delta t} \\varphi\n",
    "+ \\frac{1}{2}K(\\nabla u^{n+1}) \\nabla u^{n+1} \\cdot \\nabla \\varphi \\\n",
    "+ \\frac{1}{2}K(\\nabla u^n) \\nabla u^n \\cdot \\nabla \\varphi v\\ dx \\\\\n",
    "- \\int_{\\Omega} \\frac{1}{2}(f(x,t^n)+f(x,t^n+\\Delta t) \\varphi\\ dx\n",
    "- \\int_{\\partial \\Omega} \\frac{1}{2}(g(x,t^n)+g(x,t^n+\\Delta t)) v\\ ds\n",
    "= 0.\n",
    "\\end{split}\n",
    "\\end{equation}\n",
    "on a domain $\\Omega=[0,1]^2$. We choose $f,g$ so that the exact solution\n",
    "is given by\n",
    "\\begin{align*}\n",
    "u(x,t) = e^{-2t}\\left(\\frac{1}{2}(x^2 + y^2) - \\frac{1}{3}(x^3 - y^3)\\right) + 1\n",
    "\\end{align*}"
   ]
  },
  {
   "cell_type": "code",
   "execution_count": 1,
   "id": "blessed-smith",
   "metadata": {
    "execution": {
     "iopub.execute_input": "2021-05-26T10:21:27.551824Z",
     "iopub.status.busy": "2021-05-26T10:21:27.551039Z",
     "iopub.status.idle": "2021-05-26T10:25:17.502070Z",
     "shell.execute_reply": "2021-05-26T10:25:17.502493Z"
    }
   },
   "outputs": [],
   "source": [
    "import matplotlib\n",
    "matplotlib.rc( 'image', cmap='jet' )\n",
    "import math, sys, io\n",
    "\n",
    "from dune.grid import structuredGrid as leafGridView\n",
    "from dune.fem.space import lagrange as solutionSpace\n",
    "from dune.fem.scheme import galerkin as solutionScheme\n",
    "from dune.fem.function import gridFunction, cppFunction, integrate, uflFunction\n",
    "from dune.ufl import DirichletBC, Constant\n",
    "from ufl import TestFunction, TrialFunction, SpatialCoordinate, FacetNormal, \\\n",
    "                dx, ds, div, grad, dot, inner, sqrt, exp, sin\n",
    "\n",
    "gridView = leafGridView([0, 0], [1, 1], [10, 10])\n",
    "space = solutionSpace(gridView, order=2)\n",
    "\n",
    "x = SpatialCoordinate(space)\n",
    "initial = 1/2*(x[0]**2+x[1]**2) - 1/3*(x[0]**3 - x[1]**3) + 1\n",
    "exact   = lambda t: exp(-2*t)*(initial - 1) + 1\n",
    "\n",
    "u_h   = space.interpolate(initial, name='u_h')\n",
    "u_h_n = u_h.copy(name=\"previous\")\n",
    "\n",
    "u = TrialFunction(space)\n",
    "v = TestFunction(space)\n",
    "dt = Constant(0, name=\"dt\")    # time step\n",
    "t  = Constant(0, name=\"t\")     # current time\n",
    "\n",
    "abs_du = lambda u: sqrt(inner(grad(u), grad(u)))\n",
    "K = lambda u: 2/(1 + sqrt(1 + 4*abs_du(u)))\n",
    "a = ( dot((u - u_h_n)/dt, v) \\\n",
    "    + 0.5*dot(K(u)*grad(u), grad(v)) \\\n",
    "    + 0.5*dot(K(u_h_n)*grad(u_h_n), grad(v)) ) * dx\n",
    "\n",
    "f = lambda s: -2*exp(-2*s)*(initial - 1) - div( K(exact(s))*grad(exact(s)) )\n",
    "g = lambda s: K(exact(s))*grad(exact(s))\n",
    "n = FacetNormal(space)\n",
    "b = 0.5*(f(t)+f(t+dt))*v*dx + 0.5*dot(g(t)+g(t+dt),n)*v*ds"
   ]
  },
  {
   "cell_type": "markdown",
   "id": "desperate-shame",
   "metadata": {},
   "source": [
    "With the model described as a ufl form, we can construct a scheme class\n",
    "that provides the solve method which we can use to evolve the solution from\n",
    "one time step to the next:"
   ]
  },
  {
   "cell_type": "code",
   "execution_count": 2,
   "id": "located-illinois",
   "metadata": {
    "execution": {
     "iopub.execute_input": "2021-05-26T10:25:17.511287Z",
     "iopub.status.busy": "2021-05-26T10:25:17.510826Z",
     "iopub.status.idle": "2021-05-26T10:26:39.914643Z",
     "shell.execute_reply": "2021-05-26T10:26:39.914100Z"
    }
   },
   "outputs": [],
   "source": [
    "scheme = solutionScheme(a == b, solver='cg')"
   ]
  },
  {
   "cell_type": "markdown",
   "id": "appointed-madison",
   "metadata": {},
   "source": [
    "Optionally, we may want to increase the default quadrature orders which are\n",
    "'2 * space.order' for element integrals and '2 * space.order + 1' for surface\n",
    "integrals. Depending on the data this might not be enough. Then we simply\n",
    "set the integration orders by hand like in the following example, by calling\n",
    "the method setQuadratureOrders(interiorOrder, surfaceOrder)."
   ]
  },
  {
   "cell_type": "code",
   "execution_count": 3,
   "id": "convinced-vision",
   "metadata": {
    "execution": {
     "iopub.execute_input": "2021-05-26T10:26:39.920994Z",
     "iopub.status.busy": "2021-05-26T10:26:39.920314Z",
     "iopub.status.idle": "2021-05-26T10:26:39.922566Z",
     "shell.execute_reply": "2021-05-26T10:26:39.923165Z"
    }
   },
   "outputs": [],
   "source": [
    "#scheme.setQuadratureOrders( 2*space.order, 2*space.order+1 )"
   ]
  },
  {
   "cell_type": "markdown",
   "id": "functional-manufacturer",
   "metadata": {},
   "source": [
    "Since we have forced the system towards a given solution, we can compute\n",
    "the discretization error. First we define ufl expressions for the $L^2$\n",
    "and $H^1$ norms and will use those to compute the experimental order of\n",
    "convergence of the scheme by computing the time evolution on different grid\n",
    "levels."
   ]
  },
  {
   "cell_type": "code",
   "execution_count": 4,
   "id": "alpha-length",
   "metadata": {
    "execution": {
     "iopub.execute_input": "2021-05-26T10:26:39.993083Z",
     "iopub.status.busy": "2021-05-26T10:26:39.957063Z",
     "iopub.status.idle": "2021-05-26T10:29:23.640669Z",
     "shell.execute_reply": "2021-05-26T10:29:23.641306Z"
    }
   },
   "outputs": [],
   "source": [
    "endTime    = 0.25\n",
    "exact_end  = exact(endTime)\n",
    "l2error = uflFunction(gridView, name=\"l2error\", order=u_h.space.order, ufl=dot(u_h - exact_end, u_h - exact_end))\n",
    "h1error = uflFunction(gridView, name=\"h1error\", order=u_h.space.order, ufl=dot(grad(u_h - exact_end), grad(u_h - exact_end)))"
   ]
  },
  {
   "cell_type": "markdown",
   "id": "automated-gravity",
   "metadata": {},
   "source": [
    "Now we evolve the solution from time $t=0$ to $t=T$ in a loop. Since the\n",
    "PDE model has time dependent coefficient (through the forcing term), we\n",
    "need to update the `t` constant used to define the model before each step.\n",
    "A second constant we used to define the model was `dt` which defines the\n",
    "time step. We keep this constant and set it to $0.002$ at the beginning\n",
    "of the simulation. This value could be changed in each time step:"
   ]
  },
  {
   "cell_type": "code",
   "execution_count": 5,
   "id": "ambient-consideration",
   "metadata": {
    "execution": {
     "iopub.execute_input": "2021-05-26T10:29:23.804023Z",
     "iopub.status.busy": "2021-05-26T10:29:23.763168Z",
     "iopub.status.idle": "2021-05-26T10:30:54.735729Z",
     "shell.execute_reply": "2021-05-26T10:30:54.736368Z"
    }
   },
   "outputs": [
    {
     "name": "stdout",
     "output_type": "stream",
     "text": [
      "grid size: 100\n",
      "\t | u_h - u | = 8.26004e-06\n",
      "\t | grad(uh - u) | = 6.39420e-04\n"
     ]
    },
    {
     "data": {
      "image/png": "[encoded data removed]",
      "text/plain": [
       "<Figure size 432x288 with 2 Axes>"
      ]
     },
     "metadata": {
      "needs_background": "light"
     },
     "output_type": "display_data"
    }
   ],
   "source": [
    "scheme.model.dt = 0.002\n",
    "u_h.interpolate(initial)\n",
    "time = 0\n",
    "while time < (endTime - 1e-6):\n",
    "    scheme.model.t = time\n",
    "    u_h_n.assign(u_h)\n",
    "    scheme.solve(target=u_h)\n",
    "    time += scheme.model.dt\n",
    "\n",
    "errors = [sqrt(e) for e in integrate(gridView, [l2error,h1error], order=5)]\n",
    "print('grid size:', gridView.size(0))\n",
    "print('\\t | u_h - u | =', '{:0.5e}'.format(errors[0]))\n",
    "print('\\t | grad(uh - u) | =', '{:0.5e}'.format(errors[1]))\n",
    "u_h.plot()\n",
    "gridView.writeVTK('forchheimer', pointdata={'u': u_h, 'l2error': l2error, 'h1error': h1error})"
   ]
  }
 ],
 "metadata": {
  "jupytext": {
   "cell_metadata_filter": "-all"
  },
  "kernelspec": {
   "display_name": "Python 3",
   "language": "python",
   "name": "python3"
  },
  "language_info": {
   "codemirror_mode": {
    "name": "ipython",
    "version": 3
   },
   "file_extension": ".py",
   "mimetype": "text/x-python",
   "name": "python",
   "nbconvert_exporter": "python",
   "pygments_lexer": "ipython3",
   "version": "3.8.5"
  }
 },
 "nbformat": 4,
 "nbformat_minor": 5
}
