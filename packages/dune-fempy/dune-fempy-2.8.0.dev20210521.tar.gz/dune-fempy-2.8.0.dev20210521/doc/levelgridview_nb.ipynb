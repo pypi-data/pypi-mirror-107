{
 "cells": [
  {
   "cell_type": "code",
   "execution_count": 1,
   "id": "minute-piano",
   "metadata": {
    "execution": {
     "iopub.execute_input": "2021-05-26T10:25:20.904575Z",
     "iopub.status.busy": "2021-05-26T10:25:20.904068Z",
     "iopub.status.idle": "2021-05-26T10:26:08.298725Z",
     "shell.execute_reply": "2021-05-26T10:26:08.299282Z"
    }
   },
   "outputs": [],
   "source": [
    "from dune.grid import cartesianDomain\n",
    "from dune.alugrid import aluConformGrid, aluSimplexGrid\n",
    "domain = cartesianDomain([0,0],[1,1],[1,1])"
   ]
  },
  {
   "cell_type": "code",
   "execution_count": 2,
   "id": "critical-dragon",
   "metadata": {
    "execution": {
     "iopub.execute_input": "2021-05-26T10:26:08.305089Z",
     "iopub.status.busy": "2021-05-26T10:26:08.304404Z",
     "iopub.status.idle": "2021-05-26T10:35:13.972845Z",
     "shell.execute_reply": "2021-05-26T10:35:13.972222Z"
    }
   },
   "outputs": [
    {
     "name": "stdout",
     "output_type": "stream",
     "text": [
      "level: 0 number of elements: 2\n",
      "level: 1 number of elements: 8\n",
      "level: 2 number of elements: 32\n",
      "level: 3 number of elements: 128\n",
      "level: 4 number of elements: 512\n"
     ]
    }
   ],
   "source": [
    "# first construct a grid using quartering as refinement strategy\n",
    "aluView = aluSimplexGrid(domain)\n",
    "hGrid = aluView.hierarchicalGrid\n",
    "hGrid.globalRefine(5)\n",
    "for level in range(hGrid.maxLevel):\n",
    "    print(\"level:\",level, \"number of elements:\",hGrid.levelView(level).size(0))"
   ]
  },
  {
   "cell_type": "code",
   "execution_count": 3,
   "id": "internal-aircraft",
   "metadata": {
    "execution": {
     "iopub.execute_input": "2021-05-26T10:35:13.979732Z",
     "iopub.status.busy": "2021-05-26T10:35:13.978466Z",
     "iopub.status.idle": "2021-05-26T10:38:20.124656Z",
     "shell.execute_reply": "2021-05-26T10:38:20.125379Z"
    }
   },
   "outputs": [
    {
     "name": "stdout",
     "output_type": "stream",
     "text": [
      "level: 0 number of elements: 2\n",
      "level: 1 number of elements: 4\n",
      "level: 2 number of elements: 8\n",
      "level: 3 number of elements: 16\n",
      "level: 4 number of elements: 32\n",
      "level: 5 number of elements: 64\n",
      "level: 6 number of elements: 128\n",
      "level: 7 number of elements: 256\n",
      "level: 8 number of elements: 512\n",
      "level: 9 number of elements: 1024\n"
     ]
    }
   ],
   "source": [
    "# now construct a grid using bisection as refinement strategy\n",
    "aluView = aluConformGrid(domain)\n",
    "hGrid = aluView.hierarchicalGrid\n",
    "hGrid.globalRefine(10)\n",
    "for level in range(hGrid.maxLevel):\n",
    "    print(\"level:\",level, \"number of elements:\",hGrid.levelView(level).size(0))"
   ]
  }
 ],
 "metadata": {
  "jupytext": {
   "cell_metadata_filter": "-all"
  },
  "kernelspec": {
   "display_name": "Python 3",
   "language": "python",
   "name": "python3"
  },
  "language_info": {
   "codemirror_mode": {
    "name": "ipython",
    "version": 3
   },
   "file_extension": ".py",
   "mimetype": "text/x-python",
   "name": "python",
   "nbconvert_exporter": "python",
   "pygments_lexer": "ipython3",
   "version": "3.8.5"
  }
 },
 "nbformat": 4,
 "nbformat_minor": 5
}
