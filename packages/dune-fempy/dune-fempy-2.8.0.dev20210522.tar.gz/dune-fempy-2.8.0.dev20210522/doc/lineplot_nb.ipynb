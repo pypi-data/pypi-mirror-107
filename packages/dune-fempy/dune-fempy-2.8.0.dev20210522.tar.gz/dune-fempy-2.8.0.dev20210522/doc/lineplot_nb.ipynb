{
 "cells": [
  {
   "cell_type": "markdown",
   "id": "metric-grain",
   "metadata": {
    "lines_to_next_cell": 0
   },
   "source": [
    "# Sampling the Solution over a Line\n",
    "Let us revisit our simple 3d example from the introduction"
   ]
  },
  {
   "cell_type": "code",
   "execution_count": 1,
   "id": "suited-destination",
   "metadata": {
    "execution": {
     "iopub.execute_input": "2021-05-26T10:08:58.376888Z",
     "iopub.status.busy": "2021-05-26T10:08:58.376097Z",
     "iopub.status.idle": "2021-05-26T10:14:24.387098Z",
     "shell.execute_reply": "2021-05-26T10:14:24.387978Z"
    }
   },
   "outputs": [],
   "source": [
    "from matplotlib import pyplot\n",
    "import numpy\n",
    "try:\n",
    "    import pygmsh\n",
    "    with pygmsh.geo.Geometry() as geom:\n",
    "        poly = geom.add_polygon([\n",
    "              [ 0.0,  0.5, 0.0], [-0.1,  0.1, 0.0], [-0.5,  0.0, 0.0],\n",
    "              [-0.1, -0.1, 0.0], [ 0.0, -0.5, 0.0], [ 0.1, -0.1, 0.0],\n",
    "              [ 0.5,  0.0, 0.0], [ 0.1,  0.1, 0.0] ], mesh_size=0.05)\n",
    "        geom.twist(\n",
    "            poly,\n",
    "            translation_axis=[0, 0, 1], rotation_axis=[0, 0, 1], point_on_axis=[0, 0, 0],\n",
    "            angle=numpy.pi / 3,\n",
    "        )\n",
    "        mesh = geom.generate_mesh(verbose=False)\n",
    "\n",
    "    points, cells = mesh.points, mesh.cells_dict\n",
    "    domain3d = {\"vertices\":points.astype(\"float\"), \"simplices\":cells[\"tetra\"]}\n",
    "except ImportError: # pygmsh not installed - use a simple cartesian domain\n",
    "    print(\"pygmsh module not found using a simple Cartesian domain - ignored\")\n",
    "    from dune.grid import cartesianDomain\n",
    "    domain3d = cartesianDomain([-0.25,-0.25,0],[0.25,0.25,1],[30,30,60])\n",
    "\n",
    "from dune.alugrid import aluSimplexGrid as leafGridView3d\n",
    "gridView3d  = leafGridView3d(domain3d)"
   ]
  },
  {
   "cell_type": "markdown",
   "id": "purple-matthew",
   "metadata": {
    "lines_to_next_cell": 0
   },
   "source": [
    "As before we solve a simple Laplace problem"
   ]
  },
  {
   "cell_type": "code",
   "execution_count": 2,
   "id": "brown-deadline",
   "metadata": {
    "execution": {
     "iopub.execute_input": "2021-05-26T10:14:24.398178Z",
     "iopub.status.busy": "2021-05-26T10:14:24.397073Z",
     "iopub.status.idle": "2021-05-26T10:18:20.040274Z",
     "shell.execute_reply": "2021-05-26T10:18:20.039332Z"
    }
   },
   "outputs": [],
   "source": [
    "from dune.fem.space import lagrange as solutionSpace\n",
    "from dune.fem.scheme import galerkin as solutionScheme\n",
    "from ufl import TrialFunction, TestFunction, SpatialCoordinate, dot, grad, dx, conditional, sqrt\n",
    "\n",
    "space3d = solutionSpace(gridView3d, order=1)\n",
    "u = TrialFunction(space3d)\n",
    "v = TestFunction(space3d)\n",
    "x = SpatialCoordinate(space3d)\n",
    "scheme3d = solutionScheme((dot(grad(u),grad(v))+u*v)*dx ==\n",
    "                        conditional(dot(x,x)<.01,100,0)*v*dx,\n",
    "                        solver='cg')\n",
    "uh3d = space3d.interpolate([0],name=\"solution\")\n",
    "info = scheme3d.solve(target=uh3d)"
   ]
  },
  {
   "cell_type": "markdown",
   "id": "second-shadow",
   "metadata": {
    "lines_to_next_cell": 0
   },
   "source": [
    "Instead of plotting this using paraview we want to only study the\n",
    "solution along a single line. This requires findings points\n",
    "$x_i = x_0+\\frac{i}{N}(x1-x0)$ for $i=0,\\dots,N$ within the unstructured\n",
    "grid. This would be expensive to compute on the Python so we implement\n",
    "this algorithm in C++ using the `LineSegmentSampler` class available in\n",
    "`Dune-Fem`. The resulting `algorithm` returns a pair of two lists with\n",
    "coordinates $x_i$ and the values of the grid function at these points:\n",
    "\n",
    ".. literalinclude:: utility.hh\n"
   ]
  },
  {
   "cell_type": "code",
   "execution_count": 3,
   "id": "constitutional-registration",
   "metadata": {
    "execution": {
     "iopub.execute_input": "2021-05-26T10:18:20.049484Z",
     "iopub.status.busy": "2021-05-26T10:18:20.048412Z",
     "iopub.status.idle": "2021-05-26T10:19:12.696855Z",
     "shell.execute_reply": "2021-05-26T10:19:12.697757Z"
    }
   },
   "outputs": [
    {
     "data": {
      "text/plain": [
       "[<matplotlib.lines.Line2D at 0x7f855e320520>]"
      ]
     },
     "execution_count": 1,
     "metadata": {},
     "output_type": "execute_result"
    },
    {
     "data": {
      "image/png": "[encoded data removed]",
      "text/plain": [
       "<Figure size 432x288 with 1 Axes>"
      ]
     },
     "metadata": {
      "needs_background": "light"
     },
     "output_type": "display_data"
    }
   ],
   "source": [
    "import dune.generator.algorithm as algorithm\n",
    "from dune.common import FieldVector\n",
    "x0, x1 = FieldVector([0,0,0]), FieldVector([0,0,1])\n",
    "p,v = algorithm.run('sample', 'utility.hh', uh3d, x0, x1, 100)\n",
    "x,y = numpy.zeros(len(p)), numpy.zeros(len(p))\n",
    "length = (x1-x0).two_norm\n",
    "for i in range(len(x)):\n",
    "    x[i] = (p[i]-x0).two_norm / length\n",
    "    y[i] = v[i][0]\n",
    "pyplot.plot(x,y)"
   ]
  },
  {
   "cell_type": "markdown",
   "id": "latin-personal",
   "metadata": {
    "lines_to_next_cell": 0
   },
   "source": [
    "**Note**: the coordinates returned are always in the interval $[0,1]$ so\n",
    "if physical coordinates are required, they need to be rescaled.\n",
    "Also, function values returned by the `sample` function\n",
    "are always of a `FieldVector` type, so that even for a scalar example\n",
    "a `v[i]` is a vector of dimension one, so that `y[i]=v[i][0]` has to be\n",
    "used.\n",
    "\n",
    "A mentioned above any grid function can be passed in as argument to the\n",
    "`sample` function. So for example plotting $|\\nabla u_h|$ is straight\n",
    "forward using the corresponding ufl expression. Since in this case\n",
    "automatic conversion from the ufl expression (available for example in the\n",
    "plotting function) to a grid function, we need to do this explicitly:"
   ]
  },
  {
   "cell_type": "code",
   "execution_count": 4,
   "id": "attractive-ethernet",
   "metadata": {
    "execution": {
     "iopub.execute_input": "2021-05-26T10:19:12.778544Z",
     "iopub.status.busy": "2021-05-26T10:19:12.742278Z",
     "iopub.status.idle": "2021-05-26T10:22:25.306026Z",
     "shell.execute_reply": "2021-05-26T10:22:25.307023Z"
    }
   },
   "outputs": [
    {
     "data": {
      "text/plain": [
       "[<matplotlib.lines.Line2D at 0x7f855e1c7b20>]"
      ]
     },
     "execution_count": 1,
     "metadata": {},
     "output_type": "execute_result"
    },
    {
     "data": {
      "image/png": "[encoded data removed]",
      "text/plain": [
       "<Figure size 432x288 with 1 Axes>"
      ]
     },
     "metadata": {
      "needs_background": "light"
     },
     "output_type": "display_data"
    }
   ],
   "source": [
    "from dune.ufl import expression2GF\n",
    "absGrad = expression2GF(gridView3d, sqrt(dot(grad(uh3d),grad(uh3d))), 2 )\n",
    "p,v = algorithm.run('sample', 'utility.hh', absGrad, x0, x1, 100)\n",
    "for i in range(len(x)):\n",
    "    y[i] = v[i][0]\n",
    "pyplot.plot(x,y)"
   ]
  },
  {
   "cell_type": "markdown",
   "id": "disturbed-thompson",
   "metadata": {
    "lines_to_next_cell": 0
   },
   "source": [
    "Similar we can plot both partial derivatives of the solution over the\n",
    "given line:"
   ]
  },
  {
   "cell_type": "code",
   "execution_count": 5,
   "id": "brave-introduction",
   "metadata": {
    "execution": {
     "iopub.execute_input": "2021-05-26T10:22:25.442183Z",
     "iopub.status.busy": "2021-05-26T10:22:25.428933Z",
     "iopub.status.idle": "2021-05-26T10:24:44.157253Z",
     "shell.execute_reply": "2021-05-26T10:24:44.157995Z"
    }
   },
   "outputs": [
    {
     "data": {
      "text/plain": [
       "[<matplotlib.lines.Line2D at 0x7f855df3f370>]"
      ]
     },
     "execution_count": 1,
     "metadata": {},
     "output_type": "execute_result"
    },
    {
     "data": {
      "image/png": "[encoded data removed]",
      "text/plain": [
       "<Figure size 432x288 with 1 Axes>"
      ]
     },
     "metadata": {
      "needs_background": "light"
     },
     "output_type": "display_data"
    }
   ],
   "source": [
    "from dune.ufl import expression2GF\n",
    "absGrad = expression2GF(gridView3d, grad(uh3d), 2 )\n",
    "p,v = algorithm.run('sample', 'utility.hh', absGrad, x0, x1, 100)\n",
    "dx,dy = numpy.zeros(len(p)), numpy.zeros(len(p))\n",
    "for i in range(len(x)):\n",
    "    dx[i] = v[i][0]\n",
    "    dy[i] = v[i][1]\n",
    "pyplot.plot(x,dx)\n",
    "pyplot.plot(x,dy)"
   ]
  },
  {
   "cell_type": "markdown",
   "id": "located-yacht",
   "metadata": {
    "lines_to_next_cell": 0
   },
   "source": [
    "**Remark:** plotting over a line has been included as a utility function\n",
    "so can easily be called as shown below"
   ]
  },
  {
   "cell_type": "code",
   "execution_count": 6,
   "id": "wrapped-tackle",
   "metadata": {
    "execution": {
     "iopub.execute_input": "2021-05-26T10:24:44.163063Z",
     "iopub.status.busy": "2021-05-26T10:24:44.162460Z",
     "iopub.status.idle": "2021-05-26T10:25:16.835211Z",
     "shell.execute_reply": "2021-05-26T10:25:16.836120Z"
    }
   },
   "outputs": [
    {
     "data": {
      "text/plain": [
       "[<matplotlib.lines.Line2D at 0x7f855dc97cd0>]"
      ]
     },
     "execution_count": 1,
     "metadata": {},
     "output_type": "execute_result"
    },
    {
     "data": {
      "image/png": "[encoded data removed]",
      "text/plain": [
       "<Figure size 432x288 with 1 Axes>"
      ]
     },
     "metadata": {
      "needs_background": "light"
     },
     "output_type": "display_data"
    }
   ],
   "source": [
    "from dune.fem.utility import lineSample\n",
    "x,y = lineSample(uh3d,[0,0,0],[0,0,1],100)\n",
    "pyplot.plot(x,y)"
   ]
  }
 ],
 "metadata": {
  "jupytext": {
   "cell_metadata_filter": "-all"
  },
  "kernelspec": {
   "display_name": "Python 3",
   "language": "python",
   "name": "python3"
  },
  "language_info": {
   "codemirror_mode": {
    "name": "ipython",
    "version": 3
   },
   "file_extension": ".py",
   "mimetype": "text/x-python",
   "name": "python",
   "nbconvert_exporter": "python",
   "pygments_lexer": "ipython3",
   "version": "3.8.5"
  }
 },
 "nbformat": 4,
 "nbformat_minor": 5
}
