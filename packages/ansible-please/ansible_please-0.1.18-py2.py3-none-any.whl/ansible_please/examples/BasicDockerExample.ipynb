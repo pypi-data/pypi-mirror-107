{
 "cells": [
  {
   "cell_type": "markdown",
   "metadata": {},
   "source": [
    "# Run redis with docker"
   ]
  },
  {
   "cell_type": "code",
   "execution_count": 1,
   "metadata": {},
   "outputs": [],
   "source": [
    "from ansible_please.ansible_runner import AnsibleRunner\n",
    "from ansible_please.playbook import Playbook\n",
    "from ansible_please.task_templates import Pip, DockerContainer\n",
    "from omegaconf import OmegaConf"
   ]
  },
  {
   "cell_type": "markdown",
   "metadata": {},
   "source": [
    "### Install docker via pip"
   ]
  },
  {
   "cell_type": "code",
   "execution_count": 2,
   "metadata": {},
   "outputs": [],
   "source": [
    "pip_task = Pip(packages=[\"docker\"])"
   ]
  },
  {
   "cell_type": "code",
   "execution_count": 3,
   "metadata": {},
   "outputs": [
    {
     "data": {
      "text/plain": [
       "<ansible_please.task_templates.pip.Pip at 0x7fc70234ab80>"
      ]
     },
     "execution_count": 3,
     "metadata": {},
     "output_type": "execute_result"
    }
   ],
   "source": [
    "pip_task"
   ]
  },
  {
   "cell_type": "markdown",
   "metadata": {},
   "source": [
    "### Define docker task"
   ]
  },
  {
   "cell_type": "code",
   "execution_count": 4,
   "metadata": {},
   "outputs": [],
   "source": [
    "docker_container_task = DockerContainer(\n",
    "    task_description=\"start-test-redis\",\n",
    "    name=\"test-redis\",\n",
    "    image=\"redis:latest\",\n",
    ")"
   ]
  },
  {
   "cell_type": "code",
   "execution_count": 5,
   "metadata": {},
   "outputs": [
    {
     "name": "stdout",
     "output_type": "stream",
     "text": [
      "- name: '[up] start-test-redis'\n",
      "  community.docker.docker_container:\n",
      "    name: test-redis\n",
      "    image: redis:latest\n",
      "    user: nobody\n",
      "    keep_volumes: false\n",
      "    detach: true\n",
      "    tty: false\n",
      "    interactive: false\n",
      "    network_mode: host\n",
      "    container_default_behavior: compatibility\n",
      "  tags:\n",
      "  - up\n",
      "\n"
     ]
    }
   ],
   "source": [
    "print(docker_container_task)"
   ]
  },
  {
   "cell_type": "markdown",
   "metadata": {},
   "source": [
    "### Define Playbook"
   ]
  },
  {
   "cell_type": "code",
   "execution_count": 6,
   "metadata": {},
   "outputs": [],
   "source": [
    "playbook = Playbook(\n",
    "    name=\"test-redis-playbook\",\n",
    "    hosts=\"master_host\",\n",
    "    tasks=[\n",
    "        pip_task.up(),\n",
    "        docker_container_task.up(),\n",
    "        docker_container_task.down(),\n",
    "    ],\n",
    ")"
   ]
  },
  {
   "cell_type": "markdown",
   "metadata": {},
   "source": [
    "### Run playbook"
   ]
  },
  {
   "cell_type": "code",
   "execution_count": 8,
   "metadata": {
    "scrolled": true
   },
   "outputs": [
    {
     "name": "stdout",
     "output_type": "stream",
     "text": [
      "\u001b[0;34mNo config file found; using defaults\u001b[0m\n",
      "\n",
      "PLAY [test-redis-playbook] *****************************************************\n",
      "\n",
      "TASK [Gathering Facts] *********************************************************\n",
      "\u001b[0;32mok: [192.168.1.248]\u001b[0m\n",
      "\n",
      "TASK [[up] Install package via pip] ********************************************\n",
      "\u001b[0;33mchanged: [192.168.1.248] => {\"changed\": true, \"cmd\": [\"/usr/bin/python3\", \"-m\", \"pip\", \"install\", \"docker\"], \"delta\": \"0:00:00.896875\", \"end\": \"2021-05-23 17:02:46.414234\", \"rc\": 0, \"start\": \"2021-05-23 17:02:45.517359\", \"stderr\": \"\", \"stderr_lines\": [], \"stdout\": \"Requirement already satisfied: docker in /home/shyam/.local/lib/python3.8/site-packages (4.4.1)\\nRequirement already satisfied: websocket-client>=0.32.0 in /home/shyam/.local/lib/python3.8/site-packages (from docker) (0.57.0)\\nRequirement already satisfied: six>=1.4.0 in /usr/lib/python3/dist-packages (from docker) (1.14.0)\\nRequirement already satisfied: requests!=2.18.0,>=2.14.2 in /usr/lib/python3/dist-packages (from docker) (2.22.0)\", \"stdout_lines\": [\"Requirement already satisfied: docker in /home/shyam/.local/lib/python3.8/site-packages (4.4.1)\", \"Requirement already satisfied: websocket-client>=0.32.0 in /home/shyam/.local/lib/python3.8/site-packages (from docker) (0.57.0)\", \"Requirement already satisfied: six>=1.4.0 in /usr/lib/python3/dist-packages (from docker) (1.14.0)\", \"Requirement already satisfied: requests!=2.18.0,>=2.14.2 in /usr/lib/python3/dist-packages (from docker) (2.22.0)\"]}\u001b[0m\n",
      "\n",
      "TASK [[up] start-test-redis] ***************************************************\n",
      "\"/var/snap/docker/common/var-lib-docker/overlay2/886104ee69ccab2effc1a52d253de7f83cabea969bcf800f89eb4631a7a30a81/diff\", \"WorkDir\": \"/var/snap/docker/common/var-lib-docker/overlay2/886104ee69ccab2effc1a52d253de7f83cabea969bcf800f89eb4631a7a30a81/work\"}, \"Name\": \"overlay2\"}, \"HostConfig\": {\"AutoRemove\": false, \"Binds\": [], \"BlkioDeviceReadBps\": null, \"BlkioDeviceReadIOps\": null, \"BlkioDeviceWriteBps\": null, \"BlkioDeviceWriteIOps\": null, \"BlkioWeight\": 0, \"BlkioWeightDevice\": null, \"CapAdd\": null, \"CapDrop\": null, \"Capabilities\": null, \"Cgroup\": \"\", \"CgroupParent\": \"\", \"ConsoleSize\": [0, 0], \"ContainerIDFile\": \"\", \"CpuCount\": 0, \"CpuPercent\": 0, \"CpuPeriod\": 0, \"CpuQuota\": 0, \"CpuRealtimePeriod\": 0, \"CpuRealtimeRuntime\": 0, \"CpuShares\": 0, \"CpusetCpus\": \"\", \"CpusetMems\": \"\", \"DeviceCgroupRules\": null, \"DeviceRequests\": null, \"Devices\": null, \"Dns\": null, \"DnsOptions\": null, \"DnsSearch\": null, \"ExtraHosts\": null, \"GroupAdd\": null, \"IOMaximumBandwidth\": 0, \"IOMaximumIOps\": 0, \"Init\": false, \"IpcMode\": \"private\", \"Isolation\": \"\", \"KernelMemory\": 0, \"KernelMemoryTCP\": 0, \"Links\": null, \"LogConfig\": {\"Config\": {}, \"Type\": \"json-file\"}, \"MaskedPaths\": [\"/proc/asound\", \"/proc/acpi\", \"/proc/kcore\", \"/proc/keys\", \"/proc/latency_stats\", \"/proc/timer_list\", \"/proc/timer_stats\", \"/proc/sched_debug\", \"/proc/scsi\", \"/sys/firmware\"], \"Memory\": 0, \"MemoryReservation\": 0, \"MemorySwap\": 0, \"MemorySwappiness\": null, \"NanoCpus\": 0, \"NetworkMode\": \"host\", \"OomKillDisable\": false, \"OomScoreAdj\": 0, \"PidMode\": \"\", \"PidsLimit\": null, \"PortBindings\": null, \"Privileged\": false, \"PublishAllPorts\": false, \"ReadonlyPaths\": [\"/proc/bus\", \"/proc/fs\", \"/proc/irq\", \"/proc/sys\", \"/proc/sysrq-trigger\"], \"ReadonlyRootfs\": false, \"RestartPolicy\": {\"MaximumRetryCount\": 0, \"Name\": \"\"}, \"Runtime\": \"runc\", \"SecurityOpt\": null, \"ShmSize\": 67108864, \"UTSMode\": \"\", \"Ulimits\": null, \"UsernsMode\": \"\", \"VolumeDriver\": \"\", \"VolumesFrom\": null}, \"HostnamePath\": \"/var/snap/docker/common/var-lib-docker/containers/b80efe051f635a1d82782cb359ac338f2b3aca777fc19d54d58c482973b19e2e/hostname\", \"HostsPath\": \"/var/snap/docker/common/var-lib-docker/containers/b80efe051f635a1d82782cb359ac338f2b3aca777fc19d54d58c482973b19e2e/hosts\", \"Id\": \"b80efe051f635a1d82782cb359ac338f2b3aca777fc19d54d58c482973b19e2e\", \"Image\": \"sha256:bd571e6529f32461648680c82e2540f9db4b3bb92709ae5d19dd347531c98f19\", \"LogPath\": \"/var/snap/docker/common/var-lib-docker/containers/b80efe051f635a1d82782cb359ac338f2b3aca777fc19d54d58c482973b19e2e/b80efe051f635a1d82782cb359ac338f2b3aca777fc19d54d58c482973b19e2e-json.log\", \"MountLabel\": \"\", \"Mounts\": [{\"Destination\": \"/data\", \"Driver\": \"local\", \"Mode\": \"\", \"Name\": \"7829ab9e1fc13800bfa6eaa52cab19b29db19bb3eb401282015755d388ab1baf\", \"Propagation\": \"\", \"RW\": true, \"Source\": \"/var/snap/docker/common/var-lib-docker/volumes/7829ab9e1fc13800bfa6eaa52cab19b29db19bb3eb401282015755d388ab1baf/_data\", \"Type\": \"volume\"}], \"Name\": \"/test-redis\", \"NetworkSettings\": {\"Bridge\": \"\", \"EndpointID\": \"\", \"Gateway\": \"\", \"GlobalIPv6Address\": \"\", \"GlobalIPv6PrefixLen\": 0, \"HairpinMode\": false, \"IPAddress\": \"\", \"IPPrefixLen\": 0, \"IPv6Gateway\": \"\", \"LinkLocalIPv6Address\": \"\", \"LinkLocalIPv6PrefixLen\": 0, \"MacAddress\": \"\", \"Networks\": {\"host\": {\"Aliases\": null, \"DriverOpts\": null, \"EndpointID\": \"b995f4db19205cd45bcf29bb1804a5fd9d87b98513f47a4cb9111c982943289a\", \"Gateway\": \"\", \"GlobalIPv6Address\": \"\", \"GlobalIPv6PrefixLen\": 0, \"IPAMConfig\": null, \"IPAddress\": \"\", \"IPPrefixLen\": 0, \"IPv6Gateway\": \"\", \"Links\": null, \"MacAddress\": \"\", \"NetworkID\": \"16505e3cf210bc488b5a5f7f9f0df7d18b51acece27c2f1b3a63906f13dc8529\"}}, \"Ports\": {}, \"SandboxID\": \"998d258849d089effa22e2273412b85c8b808b5e4f77ad45135f1015ed356b0b\", \"SandboxKey\": \"/run/snap.docker/netns/default\", \"SecondaryIPAddresses\": null, \"SecondaryIPv6Addresses\": null}, \"Path\": \"docker-entrypoint.sh\", \"Platform\": \"linux\", \"ProcessLabel\": \"\", \"ResolvConfPath\": \"/var/snap/docker/common/var-lib-docker/containers/b80efe051f635a1d82782cb359ac338f2b3aca777fc19d54d58\u001b[0;33mchanged: [192.168.1.248] => {\"changed\": true, \"container\": {\"AppArmorProfile\": \"docker-default\", \"Args\": [\"redis-server\"], \"Config\": {\"AttachStderr\": false, \"AttachStdin\": false, \"AttachStdout\": false, \"Cmd\": [\"redis-server\"], \"Domainname\": \"\", \"Entrypoint\": [\"docker-entrypoint.sh\"], \"Env\": [\"PATH=/usr/local/sbin:/usr/local/bin:/usr/sbin:/usr/bin:/sbin:/bin\", \"GOSU_VERSION=1.12\", \"REDIS_VERSION=6.0.8\", \"REDIS_DOWNLOAD_URL=http://download.redis.io/releases/redis-6.0.8.tar.gz\", \"REDIS_DOWNLOAD_SHA=04fa1fddc39bd1aecb6739dd5dd73858a3515b427acd1e2947a66dadce868d68\"], \"ExposedPorts\": {\"6379/tcp\": {}}, \"Hostname\": \"shyam-ThinkPad-P53\", \"Image\": \"redis:latest\", \"Labels\": {}, \"OnBuild\": null, \"OpenStdin\": false, \"StdinOnce\": false, \"Tty\": false, \"User\": \"nobody\", \"Volumes\": {\"/data\": {}}, \"WorkingDir\": \"/data\"}, \"Created\": \"2021-05-24T00:02:47.071774716Z\", \"Driver\": \"overlay2\", \"ExecIDs\": null, \"GraphDriver\": {\"Data\": {\"LowerDir\": \"/var/snap/docker/common/var-lib-docker/overlay2/886104ee69ccab2effc1a52d253de7f83cabea969bcf800f89eb4631a7a30a81-init/diff:/var/snap/docker/common/var-lib-docker/overlay2/71cf046d92c5cbbcd5ba506a85f3e2a36d8355a1fd010dc008d1073cd67f5af7/diff:/var/snap/docker/common/var-lib-docker/overlay2/058c81cdb3f029a8199dc535919c8b2b19a5c26290e7dcead7e9358c48351779/diff:/var/snap/docker/common/var-lib-docker/overlay2/60b117240fa4babf955e0696cc1556be0d676f36c685391fcf2da809fb073401/diff:/var/snap/docker/common/var-lib-docker/overlay2/2aa1f047b57cadf24935588333457bc2965b79352f5ad8e62f325179b63180a7/diff:/var/snap/docker/common/var-lib-docker/overlay2/b8a63aa86cb87c25c046ddf7a199e4fdc845c4ae6f65366f37b7a529cdf092a9/diff:/var/snap/docker/common/var-lib-docker/overlay2/409b0172df31dc9e3a05133378b2198cd06a5712651f0d03d428af8731ac12ef/diff\", \"MergedDir\": \"/var/snap/docker/common/var-lib-docker/overlay2/886104ee69ccab2effc1a52d253de7f83cabea969bcf800f89eb4631a7a30a81/merged\", \"UpperDir\": \"/var/snap/docker/common/var-lib-docker/overlay2/886104ee69ccab2effc1a52d253de7f83cabea969bcf800f89eb4631a7a30a81/diff\", \"WorkDir\": \"/var/snap/docker/common/var-lib-docker/overlay2/886104ee69ccab2effc1a52d253de7f83cabea969bcf800f89eb4631a7a30a81/work\"}, \"Name\": \"overlay2\"}, \"HostConfig\": {\"AutoRemove\": false, \"Binds\": [], \"BlkioDeviceReadBps\": null, \"BlkioDeviceReadIOps\": null, \"BlkioDeviceWriteBps\": null, \"BlkioDeviceWriteIOps\": null, \"BlkioWeight\": 0, \"BlkioWeightDevice\": null, \"CapAdd\": null, \"CapDrop\": null, \"Capabilities\": null, \"Cgroup\": \"\", \"CgroupParent\": \"\", \"ConsoleSize\": [0, 0], \"ContainerIDFile\": \"\", \"CpuCount\": 0, \"CpuPercent\": 0, \"CpuPeriod\": 0, \"CpuQuota\": 0, \"CpuRealtimePeriod\": 0, \"CpuRealtimeRuntime\": 0, \"CpuShares\": 0, \"CpusetCpus\": \"\", \"CpusetMems\": \"\", \"DeviceCgroupRules\": null, \"DeviceRequests\": null, \"Devices\": null, \"Dns\": null, \"DnsOptions\": null, \"DnsSearch\": null, \"ExtraHosts\": null, \"GroupAdd\": null, \"IOMaximumBandwidth\": 0, \"IOMaximumIOps\": 0, \"Init\": false, \"IpcMode\": \"private\", \"Isolation\": \"\", \"KernelMemory\": 0, \"KernelMemoryTCP\": 0, \"Links\": null, \"LogConfig\": {\"Config\": {}, \"Type\": \"json-file\"}, \"MaskedPaths\": [\"/proc/asound\", \"/proc/acpi\", \"/proc/kcore\", \"/proc/keys\", \"/proc/latency_stats\", \"/proc/timer_list\", \"/proc/timer_stats\", \"/proc/sched_debug\", \"/proc/scsi\", \"/sys/firmware\"], \"Memory\": 0, \"MemoryReservation\": 0, \"MemorySwap\": 0, \"MemorySwappiness\": null, \"NanoCpus\": 0, \"NetworkMode\": \"host\", \"OomKillDisable\": false, \"OomScoreAdj\": 0, \"PidMode\": \"\", \"PidsLimit\": null, \"PortBindings\": null, \"Privileged\": false, \"PublishAllPorts\": false, \"ReadonlyPaths\": [\"/proc/bus\", \"/proc/fs\", \"/proc/irq\", \"/proc/sys\", \"/proc/sysrq-trigger\"], \"ReadonlyRootfs\": false, \"RestartPolicy\": {\"MaximumRetryCount\": 0, \"Name\": \"\"}, \"Runtime\": \"runc\", \"SecurityOpt\": null, \"ShmSize\": 67108864, \"UTSMode\": \"\", \"Ulimits\": null, \"UsernsMode\": \"\", \"VolumeDriver\": \"\", \"VolumesFrom\": null}, \"HostnamePath\": \"/var/snap/docker/common/var-lib-docker/containers/b80efe051f635a1d82782cb359ac338f2b3aca777fc19d54d58c482973b19e2e/hostname\", \"HostsPath\": \"/var/snap/docker/common/var-lib-docker/containers/b80efe051f635a1d82782cb359ac338f2b3aca777fc19d54d58c482973b19e2e/hosts\", \"Id\": \"b80efe051f635a1d82782cb359ac338f2b3aca777fc19d54d58c482973b19e2e\", \"Image\": \"sha256:bd571e6529f32461648680c82e2540f9db4b3bb92709ae5d19dd347531c98f19\", \"LogPath\": \"/var/snap/docker/common/var-lib-docker/containers/b80efe051f635a1d82782cb359ac338f2b3aca777fc19d54d58c482973b19e2e/b80efe051f635a1d82782cb359ac338f2b3aca777fc19d54d58c482973b19e2e-json.log\", \"MountLabel\": \"\", \"Mounts\": [{\"Destination\": \"/data\", \"Driver\": \"local\", \"Mode\": \"\", \"Name\": \"7829ab9e1fc13800bfa6eaa52cab19b29db19bb3eb401282015755d388ab1baf\", \"Propagation\": \"\", \"RW\": true, \"Source\": \"/var/snap/docker/common/var-lib-docker/volumes/7829ab9e1fc13800bfa6eaa52cab19b29db19bb3eb401282015755d388ab1baf/_data\", \"Type\": \"volume\"}], \"Name\": \"/test-redis\", \"NetworkSettings\": {\"Bridge\": \"\", \"EndpointID\": \"\", \"Gateway\": \"\", \"GlobalIPv6Address\": \"\", \"GlobalIPv6PrefixLen\": 0, \"HairpinMode\": false, \"IPAddress\": \"\", \"IPPrefixLen\": 0, \"IPv6Gateway\": \"\", \"LinkLocalIPv6Address\": \"\", \"LinkLocalIPv6PrefixLen\": 0, \"MacAddress\": \"\", \"Networks\": {\"host\": {\"Aliases\": null, \"DriverOpts\": null, \"EndpointID\": \"b995f4db19205cd45bcf29bb1804a5fd9d87b98513f47a4cb9111c982943289a\", \"Gateway\": \"\", \"GlobalIPv6Address\": \"\", \"GlobalIPv6PrefixLen\": 0, \"IPAMConfig\": null, \"IPAddress\": \"\", \"IPPrefixLen\": 0, \"IPv6Gateway\": \"\", \"Links\": null, \"MacAddress\": \"\", \"NetworkID\": \"16505e3cf210bc488b5a5f7f9f0df7d18b51acece27c2f1b3a63906f13dc8529\"}}, \"Ports\": {}, \"SandboxID\": \"998d258849d089effa22e2273412b85c8b808b5e4f77ad45135f1015ed356b0b\", \"SandboxKey\": \"/run/snap.docker/netns/default\", \"SecondaryIPAddresses\": null, \"SecondaryIPv6Addresses\": null}, \"Path\": \"docker-entrypoint.sh\", \"Platform\": \"linux\", \"ProcessLabel\": \"\", \"ResolvConfPath\": \"/var/snap/docker/common/var-lib-docker/containers/b80efe051f635a1d82782cb359ac338f2b3aca777fc19d54d58c482973b19e2e/resolv.conf\", \"RestartCount\": 0, \"State\": {\"Dead\": false, \"Error\": \"\", \"ExitCode\": 0, \"FinishedAt\": \"0001-01-01T00:00:00Z\", \"OOMKilled\": false, \"Paused\": false, \"Pid\": 60158, \"Restarting\": false, \"Running\": true, \"StartedAt\": \"2021-05-24T00:02:48.958448019Z\", \"Status\": \"running\"}}}\u001b[0m\n",
      "\n",
      "PLAY RECAP *********************************************************************\n",
      "\u001b[0;33m192.168.1.248\u001b[0m              : \u001b[0;32mok=3   \u001b[0m \u001b[0;33mchanged=2   \u001b[0m unreachable=0    failed=0    skipped=0    rescued=0    ignored=0   \n",
      "\n"
     ]
    },
    {
     "name": "stderr",
     "output_type": "stream",
     "text": [
      "2021-05-23 17:02:49.175 | INFO     | ansible_please.ansible_runner:run:64 - successful: 0\n",
      "2021-05-23 17:02:49.177 | INFO     | ansible_please.ansible_runner:run:65 - Final status:\n",
      "2021-05-23 17:02:49.186 | INFO     | ansible_please.ansible_runner:run:66 - {'skipped': {}, 'ok': {'192.168.1.248': 3}, 'dark': {}, 'failures': {}, 'processed': {'192.168.1.248': 1}, 'changed': {'192.168.1.248': 2}}\n"
     ]
    }
   ],
   "source": [
    "runner = AnsibleRunner(input_path='test_input.yml', playbooks=[playbook])\n",
    "runner.up()"
   ]
  },
  {
   "cell_type": "markdown",
   "metadata": {},
   "source": [
    "### you should see that the container \"test-redis\" is up"
   ]
  },
  {
   "cell_type": "markdown",
   "metadata": {},
   "source": [
    "### Now tear it down"
   ]
  },
  {
   "cell_type": "code",
   "execution_count": 9,
   "metadata": {},
   "outputs": [
    {
     "name": "stdout",
     "output_type": "stream",
     "text": [
      "\u001b[0;34mNo config file found; using defaults\u001b[0m\n",
      "\n",
      "PLAY [test-redis-playbook] *****************************************************\n",
      "\n",
      "TASK [Gathering Facts] *********************************************************\n",
      "\u001b[0;32mok: [192.168.1.248]\u001b[0m\n",
      "\n",
      "TASK [[down] start-test-redis] *************************************************\n",
      "\u001b[0;32mok: [192.168.1.248] => {\"changed\": false}\u001b[0m\n",
      "\n",
      "PLAY RECAP *********************************************************************\n",
      "\u001b[0;32m192.168.1.248\u001b[0m              : \u001b[0;32mok=2   \u001b[0m changed=0    unreachable=0    failed=0    skipped=0    rescued=0    ignored=0   \n",
      "\n"
     ]
    },
    {
     "name": "stderr",
     "output_type": "stream",
     "text": [
      "2021-05-23 17:04:37.308 | INFO     | ansible_please.ansible_runner:run:64 - successful: 0\n",
      "2021-05-23 17:04:37.310 | INFO     | ansible_please.ansible_runner:run:65 - Final status:\n",
      "2021-05-23 17:04:37.329 | INFO     | ansible_please.ansible_runner:run:66 - {'skipped': {}, 'ok': {'192.168.1.248': 2}, 'dark': {}, 'failures': {}, 'processed': {'192.168.1.248': 1}, 'changed': {}}\n"
     ]
    }
   ],
   "source": [
    "# tear down\n",
    "runner.down()"
   ]
  },
  {
   "cell_type": "markdown",
   "metadata": {},
   "source": [
    "## DockerCluster"
   ]
  },
  {
   "cell_type": "code",
   "execution_count": null,
   "metadata": {},
   "outputs": [],
   "source": [
    "from ansible_please.clusters.docker_cluster import DockerCluster"
   ]
  },
  {
   "cell_type": "code",
   "execution_count": null,
   "metadata": {},
   "outputs": [],
   "source": [
    "c = DockerCluster(runner)"
   ]
  },
  {
   "cell_type": "code",
   "execution_count": null,
   "metadata": {
    "scrolled": true
   },
   "outputs": [],
   "source": [
    "c.up()"
   ]
  },
  {
   "cell_type": "markdown",
   "metadata": {},
   "source": [
    "### get cluster from info redis container"
   ]
  },
  {
   "cell_type": "code",
   "execution_count": null,
   "metadata": {},
   "outputs": [],
   "source": [
    "c = DockerCluster()"
   ]
  },
  {
   "cell_type": "code",
   "execution_count": null,
   "metadata": {},
   "outputs": [],
   "source": [
    "print(c.ansible_runner.playbooks[0])"
   ]
  },
  {
   "cell_type": "code",
   "execution_count": null,
   "metadata": {},
   "outputs": [],
   "source": [
    "import docker\n",
    "\n",
    "client = docker.DockerClient()"
   ]
  },
  {
   "cell_type": "code",
   "execution_count": null,
   "metadata": {
    "scrolled": true
   },
   "outputs": [],
   "source": [
    "container = client.containers.get('ansible_please-cluster-info')\n",
    "container.attrs['Id']"
   ]
  },
  {
   "cell_type": "code",
   "execution_count": null,
   "metadata": {},
   "outputs": [],
   "source": [
    "container.attrs[\"State\"]"
   ]
  },
  {
   "cell_type": "code",
   "execution_count": null,
   "metadata": {},
   "outputs": [],
   "source": [
    "c.down()"
   ]
  }
 ],
 "metadata": {
  "kernelspec": {
   "display_name": "Python [conda env:py38] *",
   "language": "python",
   "name": "conda-env-py38-py"
  },
  "language_info": {
   "codemirror_mode": {
    "name": "ipython",
    "version": 3
   },
   "file_extension": ".py",
   "mimetype": "text/x-python",
   "name": "python",
   "nbconvert_exporter": "python",
   "pygments_lexer": "ipython3",
   "version": "3.8.3"
  }
 },
 "nbformat": 4,
 "nbformat_minor": 4
}
