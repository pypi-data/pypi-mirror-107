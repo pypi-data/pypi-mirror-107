{
 "cells": [
  {
   "cell_type": "code",
   "execution_count": null,
   "metadata": {
    "ExecuteTime": {
     "end_time": "2021-05-30T14:43:27.955512Z",
     "start_time": "2021-05-30T14:43:27.948963Z"
    }
   },
   "outputs": [],
   "source": [
    "from jupyter_bbox_widget import BBoxWidget\n",
    "import ipywidgets as widgets\n",
    "import os\n",
    "import json"
   ]
  },
  {
   "cell_type": "markdown",
   "metadata": {},
   "source": [
    "# Introduction"
   ]
  },
  {
   "cell_type": "markdown",
   "metadata": {},
   "source": [
    "Initialize a widget with an image path and a list of classes.\n",
    "\n",
    "Click and drag anywhere on the image to create bboxes, move and resize them as necessary."
   ]
  },
  {
   "cell_type": "code",
   "execution_count": null,
   "metadata": {
    "ExecuteTime": {
     "end_time": "2021-05-30T14:44:30.355096Z",
     "start_time": "2021-05-30T14:44:30.347226Z"
    }
   },
   "outputs": [],
   "source": [
    "widget = BBoxWidget(\n",
    "    image='fruit.jpg',\n",
    "    classes=['apple', 'orange', 'pear'],\n",
    ")\n",
    "widget"
   ]
  },
  {
   "cell_type": "markdown",
   "metadata": {},
   "source": [
    "Access the boxes you created like this:"
   ]
  },
  {
   "cell_type": "code",
   "execution_count": null,
   "metadata": {
    "ExecuteTime": {
     "end_time": "2021-05-30T14:43:57.659331Z",
     "start_time": "2021-05-30T14:43:57.652758Z"
    }
   },
   "outputs": [],
   "source": [
    "widget.bboxes"
   ]
  },
  {
   "cell_type": "markdown",
   "metadata": {},
   "source": [
    "# A simple workflow example\n",
    "\n",
    "Let's say we have a folder of image files that we would like to create annotations for."
   ]
  },
  {
   "cell_type": "code",
   "execution_count": null,
   "metadata": {
    "ExecuteTime": {
     "end_time": "2021-05-30T15:32:41.109313Z",
     "start_time": "2021-05-30T15:32:41.106534Z"
    }
   },
   "outputs": [],
   "source": [
    "path = 'relative/path/to/my/images'\n",
    "files = sorted(os.listdir(path))\n",
    "\n",
    "annotations = {}\n",
    "annotations_path = 'annotations.json'"
   ]
  },
  {
   "cell_type": "markdown",
   "metadata": {},
   "source": [
    "We'll use `BBoxWidget` for creating annotations for an image. Let's also add a progress bar and \"Save\" and \"Skip\" buttons for going through our list of images. For this we'll use widgets from `ipywidgets` library."
   ]
  },
  {
   "cell_type": "code",
   "execution_count": null,
   "metadata": {
    "ExecuteTime": {
     "end_time": "2021-05-30T15:32:42.117551Z",
     "start_time": "2021-05-30T15:32:42.089778Z"
    }
   },
   "outputs": [],
   "source": [
    "# a progress bar to show how far we got\n",
    "w_progress = widgets.IntProgress(value=0, max=len(files), description='Progress')\n",
    "# a save button\n",
    "w_save = widgets.Button(description=\"Save\", button_style='success', icon='check')\n",
    "# a skip button\n",
    "w_skip = widgets.Button(description=\"Skip\", icon='arrow-right')\n",
    "# the bbox widget\n",
    "w_bbox = BBoxWidget(\n",
    "    image = os.path.join(path, files[0]),\n",
    "    classes=['cat', 'dog', 'whatever']\n",
    ")\n",
    "\n",
    "# combine all the widgets into a container\n",
    "w_container = widgets.VBox([\n",
    "    widgets.HBox([\n",
    "        w_progress,\n",
    "        w_skip,\n",
    "        w_save,\n",
    "    ]),\n",
    "    w_bbox\n",
    "])"
   ]
  },
  {
   "cell_type": "markdown",
   "metadata": {},
   "source": [
    "Define the functions to process clicks on our Save and Skip buttons."
   ]
  },
  {
   "cell_type": "code",
   "execution_count": null,
   "metadata": {
    "ExecuteTime": {
     "end_time": "2021-05-30T15:32:45.054769Z",
     "start_time": "2021-05-30T15:32:45.050169Z"
    }
   },
   "outputs": [],
   "source": [
    "# when Skip button is pressed we move on to the next file\n",
    "def on_skip(_):\n",
    "    w_progress.value += 1\n",
    "    # open new image in the widget\n",
    "    image_file = files[w_progress.value]\n",
    "    w_bbox.image = os.path.join(path, image_file)\n",
    "    # here we assign an empty list to bboxes but \n",
    "    # we could also run a detection model on the file\n",
    "    # and use its output for creating inital bboxes\n",
    "    w_bbox.bboxes = [] \n",
    "w_skip.on_click(on_skip)\n",
    "\n",
    "# when Save button is pressed we save current annotations\n",
    "# and then move on to the next file\n",
    "def on_save(_):\n",
    "    image_file = files[w_progress.value]\n",
    "    # save annotations for current image\n",
    "    annotations[image_file] = w_bbox.bboxes\n",
    "    with open('annotations.json', 'w') as f:\n",
    "        json.dump(annotations, f, indent=4)\n",
    "    # move on to the next file\n",
    "    on_skip(0)\n",
    "w_save.on_click(on_save)"
   ]
  },
  {
   "cell_type": "markdown",
   "metadata": {},
   "source": [
    "Now we display the container widget and we are ready to annotate!"
   ]
  },
  {
   "cell_type": "code",
   "execution_count": null,
   "metadata": {
    "ExecuteTime": {
     "end_time": "2021-05-30T15:32:46.047915Z",
     "start_time": "2021-05-30T15:32:46.041735Z"
    }
   },
   "outputs": [],
   "source": [
    "w_container"
   ]
  },
  {
   "cell_type": "code",
   "execution_count": null,
   "metadata": {},
   "outputs": [],
   "source": []
  }
 ],
 "metadata": {
  "hide_input": false,
  "kernelspec": {
   "display_name": "Python 3",
   "language": "python",
   "name": "python3"
  },
  "language_info": {
   "codemirror_mode": {
    "name": "ipython",
    "version": 3
   },
   "file_extension": ".py",
   "mimetype": "text/x-python",
   "name": "python",
   "nbconvert_exporter": "python",
   "pygments_lexer": "ipython3",
   "version": "3.7.3"
  },
  "toc": {
   "colors": {
    "hover_highlight": "#DAA520",
    "running_highlight": "#FF0000",
    "selected_highlight": "#FFD700"
   },
   "moveMenuLeft": true,
   "nav_menu": {
    "height": "49.1333px",
    "width": "252px"
   },
   "navigate_menu": true,
   "number_sections": true,
   "sideBar": true,
   "threshold": 4,
   "toc_cell": false,
   "toc_section_display": "block",
   "toc_window_display": false,
   "widenNotebook": false
  }
 },
 "nbformat": 4,
 "nbformat_minor": 4
}
